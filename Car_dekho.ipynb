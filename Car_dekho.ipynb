{
  "nbformat": 4,
  "nbformat_minor": 0,
  "metadata": {
    "colab": {
      "name": "Car dekho.ipynb",
      "provenance": [],
      "collapsed_sections": [],
      "include_colab_link": true
    },
    "kernelspec": {
      "name": "python3",
      "display_name": "Python 3"
    }
  },
  "cells": [
    {
      "cell_type": "markdown",
      "metadata": {
        "id": "view-in-github",
        "colab_type": "text"
      },
      "source": [
        "<a href=\"https://colab.research.google.com/github/anirudh4git/Car-Dekho-LR/blob/main/Car_dekho.ipynb\" target=\"_parent\"><img src=\"https://colab.research.google.com/assets/colab-badge.svg\" alt=\"Open In Colab\"/></a>"
      ]
    },
    {
      "cell_type": "markdown",
      "metadata": {
        "id": "Oq9OIkpjU3hr"
      },
      "source": [
        "\n",
        "## <b> CarDekho.com is India's leading car search venture that helps users buy cars that are right for them. Its website and app carry rich automotive content such as expert reviews, detailed specs and prices, comparisons as well as videos and pictures of all car brands and models available in India. The company has tie-ups with many auto manufacturers, more than 4000 car dealers and numerous financial institutions to facilitate the purchase of vehicles.\n",
        "\n",
        "## <b> CarDekho.com has launched many innovative features to ensure that users get an immersive experience of the car model before visiting a dealer showroom. These include a Feel The Car tool that gives 360-degree interior/exterior views with sounds of the car and explanations of features with videos; search and comparison by make, model, price, features; and live offers and promotions in all cities. The platform also has used car classifieds wherein users can upload their cars for sale, and find used cars for buying from individuals and used car dealers.\n",
        "\n",
        "## <b> Besides the above consumer product features, CarDekho.com provides a rich array of tech-enabled tools to OE manufacturers and car dealers. These include apps for dealer sales executives to manage leads, cloud services for tracking sales performance, call tracker solution, digital marketing support, virtual online showroom and outsourced lead management operational process for taking consumers from enquiry to sale.\n",
        "\n",
        "## <b> Our vision is to construct a complete ecosystem for consumers and car manufacturers, dealers and related businesses such that consumers have easy and complete access to not only buying and selling cars, but also manage their entire ownership experience, be it accessories, tyres, batteries, insurance or roadside assistance. </b>"
      ]
    },
    {
      "cell_type": "markdown",
      "metadata": {
        "id": "1gcS5qNzT95u"
      },
      "source": [
        "## <b>In this project, the dataset contains information about used cars listed on www.cardekho.com. This data can be used for a lot of purposes such as price prediction to exemplify the use of linear regression in Machine Learning.</b>\n",
        "\n",
        "## <b>The columns in the given dataset are as follows:</b>\n",
        "\n",
        "- ### name\n",
        "- ### year\n",
        "- ### selling_price\n",
        "- ### km_driven\n",
        "- ### fuel\n",
        "- ### seller_type\n",
        "- ### transmission\n",
        "- ### Owner"
      ]
    },
    {
      "cell_type": "markdown",
      "metadata": {
        "id": "kvk_FhylUuxj"
      },
      "source": [
        "## <b>Load up this dataset in the kernel and perform initial exploratory data analysis (EDA). You should also try creating new features based on the existing ones. The dependent variable is the <code>selling_price</code>. \n",
        "\n",
        "## <b> Your task is to build a linear regression model on this dataset (always split into train and test). Evaluate the fitted model on test data using different regression metrics. Also use your linear regression model from <code>statsmodels.api</code> to run a similar regression and obtain parameter inferences for each of the model variables. Next, you need to try if regularizing your model helps you perform well on the test dataset. For this, use <code> Ridge</code> and <code>Lasso</code> regressions on the dataset and check for different values of the tuning parameter ($\\lambda$ or $\\alpha$ , do not confuse this $\\alpha$ with the learning rate.) For each of the above regressions, get the feature importances using the regression coefficients.\n",
        "\n",
        "## <b><u> Few things to keep in mind :</u>\n",
        "* ### You should take care of categorical variables (variables which take discrete categories or classes) and do one-hot encoding to be able to pass them into the model.\n",
        "* ### Try to include as many plots and charts you can. This adds for a great visual interpretation of your tasks/activities.\n",
        "* ### Write detailed explanation of your approaches in the notebook and once you have some results, try to provide explanations for these observed results. Remember our objective is not only to build a machine learning model but to be able to explain why, what and how of the entire modeling process."
      ]
    },
    {
      "cell_type": "code",
      "metadata": {
        "id": "p0gkUooyR6Ix"
      },
      "source": [
        "from google.colab import drive"
      ],
      "execution_count": null,
      "outputs": []
    },
    {
      "cell_type": "code",
      "metadata": {
        "colab": {
          "base_uri": "https://localhost:8080/"
        },
        "id": "VF9ahRWCglJO",
        "outputId": "2d164666-cad3-427a-c9c3-08ac4fd49f87"
      },
      "source": [
        "drive.mount('/content/drive')"
      ],
      "execution_count": null,
      "outputs": [
        {
          "output_type": "stream",
          "name": "stdout",
          "text": [
            "Drive already mounted at /content/drive; to attempt to forcibly remount, call drive.mount(\"/content/drive\", force_remount=True).\n"
          ]
        }
      ]
    },
    {
      "cell_type": "code",
      "metadata": {
        "id": "sUW_MZk9g8fw"
      },
      "source": [
        "import pandas as pd\n",
        "import numpy as np\n",
        "import seaborn as sns\n",
        "import matplotlib.pyplot as plt"
      ],
      "execution_count": null,
      "outputs": []
    },
    {
      "cell_type": "code",
      "metadata": {
        "id": "wNGH0qS9-u3k"
      },
      "source": [
        "from sklearn.model_selection import train_test_split\n",
        "from sklearn.metrics import mean_squared_error\n",
        "from sklearn.linear_model import LinearRegression\n",
        "from sklearn.preprocessing import OneHotEncoder\n",
        "from sklearn.compose import make_column_transformer\n",
        "from sklearn.pipeline import make_pipeline\n",
        "from sklearn.metrics import r2_score\n",
        "from sklearn.preprocessing import StandardScaler\n",
        "from sklearn.linear_model import Lasso\n",
        "from sklearn.linear_model import Ridge\n",
        "import statsmodels.api as sm"
      ],
      "execution_count": null,
      "outputs": []
    },
    {
      "cell_type": "code",
      "metadata": {
        "id": "9gV7LTbw_P3d"
      },
      "source": [
        "import warnings\n",
        "warnings.filterwarnings(\"ignore\")"
      ],
      "execution_count": null,
      "outputs": []
    },
    {
      "cell_type": "code",
      "metadata": {
        "id": "eSvQiNC8g0PA"
      },
      "source": [
        "cd_df = pd.read_csv('/content/drive/MyDrive/Copy of CAR DETAILS FROM CAR DEKHO.csv')"
      ],
      "execution_count": null,
      "outputs": []
    },
    {
      "cell_type": "code",
      "metadata": {
        "colab": {
          "base_uri": "https://localhost:8080/"
        },
        "id": "KV9ljR3ihIkI",
        "outputId": "fdfb0408-3e56-43ac-e0f9-8f5d5997b89a"
      },
      "source": [
        "cd_df.shape"
      ],
      "execution_count": null,
      "outputs": [
        {
          "output_type": "execute_result",
          "data": {
            "text/plain": [
              "(4340, 8)"
            ]
          },
          "metadata": {},
          "execution_count": 90
        }
      ]
    },
    {
      "cell_type": "code",
      "metadata": {
        "colab": {
          "base_uri": "https://localhost:8080/",
          "height": 203
        },
        "id": "aLN_Kj49hAoF",
        "outputId": "dfcbc755-c1c5-46b4-f3f8-913308a44eb4"
      },
      "source": [
        "cd_df.head()"
      ],
      "execution_count": null,
      "outputs": [
        {
          "output_type": "execute_result",
          "data": {
            "text/html": [
              "<div>\n",
              "<style scoped>\n",
              "    .dataframe tbody tr th:only-of-type {\n",
              "        vertical-align: middle;\n",
              "    }\n",
              "\n",
              "    .dataframe tbody tr th {\n",
              "        vertical-align: top;\n",
              "    }\n",
              "\n",
              "    .dataframe thead th {\n",
              "        text-align: right;\n",
              "    }\n",
              "</style>\n",
              "<table border=\"1\" class=\"dataframe\">\n",
              "  <thead>\n",
              "    <tr style=\"text-align: right;\">\n",
              "      <th></th>\n",
              "      <th>name</th>\n",
              "      <th>year</th>\n",
              "      <th>selling_price</th>\n",
              "      <th>km_driven</th>\n",
              "      <th>fuel</th>\n",
              "      <th>seller_type</th>\n",
              "      <th>transmission</th>\n",
              "      <th>owner</th>\n",
              "    </tr>\n",
              "  </thead>\n",
              "  <tbody>\n",
              "    <tr>\n",
              "      <th>0</th>\n",
              "      <td>Maruti 800 AC</td>\n",
              "      <td>2007</td>\n",
              "      <td>60000</td>\n",
              "      <td>70000</td>\n",
              "      <td>Petrol</td>\n",
              "      <td>Individual</td>\n",
              "      <td>Manual</td>\n",
              "      <td>First Owner</td>\n",
              "    </tr>\n",
              "    <tr>\n",
              "      <th>1</th>\n",
              "      <td>Maruti Wagon R LXI Minor</td>\n",
              "      <td>2007</td>\n",
              "      <td>135000</td>\n",
              "      <td>50000</td>\n",
              "      <td>Petrol</td>\n",
              "      <td>Individual</td>\n",
              "      <td>Manual</td>\n",
              "      <td>First Owner</td>\n",
              "    </tr>\n",
              "    <tr>\n",
              "      <th>2</th>\n",
              "      <td>Hyundai Verna 1.6 SX</td>\n",
              "      <td>2012</td>\n",
              "      <td>600000</td>\n",
              "      <td>100000</td>\n",
              "      <td>Diesel</td>\n",
              "      <td>Individual</td>\n",
              "      <td>Manual</td>\n",
              "      <td>First Owner</td>\n",
              "    </tr>\n",
              "    <tr>\n",
              "      <th>3</th>\n",
              "      <td>Datsun RediGO T Option</td>\n",
              "      <td>2017</td>\n",
              "      <td>250000</td>\n",
              "      <td>46000</td>\n",
              "      <td>Petrol</td>\n",
              "      <td>Individual</td>\n",
              "      <td>Manual</td>\n",
              "      <td>First Owner</td>\n",
              "    </tr>\n",
              "    <tr>\n",
              "      <th>4</th>\n",
              "      <td>Honda Amaze VX i-DTEC</td>\n",
              "      <td>2014</td>\n",
              "      <td>450000</td>\n",
              "      <td>141000</td>\n",
              "      <td>Diesel</td>\n",
              "      <td>Individual</td>\n",
              "      <td>Manual</td>\n",
              "      <td>Second Owner</td>\n",
              "    </tr>\n",
              "  </tbody>\n",
              "</table>\n",
              "</div>"
            ],
            "text/plain": [
              "                       name  year  ...  transmission         owner\n",
              "0             Maruti 800 AC  2007  ...        Manual   First Owner\n",
              "1  Maruti Wagon R LXI Minor  2007  ...        Manual   First Owner\n",
              "2      Hyundai Verna 1.6 SX  2012  ...        Manual   First Owner\n",
              "3    Datsun RediGO T Option  2017  ...        Manual   First Owner\n",
              "4     Honda Amaze VX i-DTEC  2014  ...        Manual  Second Owner\n",
              "\n",
              "[5 rows x 8 columns]"
            ]
          },
          "metadata": {},
          "execution_count": 91
        }
      ]
    },
    {
      "cell_type": "code",
      "metadata": {
        "colab": {
          "base_uri": "https://localhost:8080/"
        },
        "id": "xmSVS5tUhFul",
        "outputId": "4a5eb14c-1ae3-43b6-d681-268095d0111c"
      },
      "source": [
        "cd_df.info()"
      ],
      "execution_count": null,
      "outputs": [
        {
          "output_type": "stream",
          "name": "stdout",
          "text": [
            "<class 'pandas.core.frame.DataFrame'>\n",
            "RangeIndex: 4340 entries, 0 to 4339\n",
            "Data columns (total 8 columns):\n",
            " #   Column         Non-Null Count  Dtype \n",
            "---  ------         --------------  ----- \n",
            " 0   name           4340 non-null   object\n",
            " 1   year           4340 non-null   int64 \n",
            " 2   selling_price  4340 non-null   int64 \n",
            " 3   km_driven      4340 non-null   int64 \n",
            " 4   fuel           4340 non-null   object\n",
            " 5   seller_type    4340 non-null   object\n",
            " 6   transmission   4340 non-null   object\n",
            " 7   owner          4340 non-null   object\n",
            "dtypes: int64(3), object(5)\n",
            "memory usage: 271.4+ KB\n"
          ]
        }
      ]
    },
    {
      "cell_type": "code",
      "metadata": {
        "colab": {
          "base_uri": "https://localhost:8080/"
        },
        "id": "MJIipov4klhZ",
        "outputId": "d7948754-5ff1-4645-e103-f603543f7d67"
      },
      "source": [
        "#Checking nulls\n",
        "cd_df.isnull().sum()"
      ],
      "execution_count": null,
      "outputs": [
        {
          "output_type": "execute_result",
          "data": {
            "text/plain": [
              "name             0\n",
              "year             0\n",
              "selling_price    0\n",
              "km_driven        0\n",
              "fuel             0\n",
              "seller_type      0\n",
              "transmission     0\n",
              "owner            0\n",
              "dtype: int64"
            ]
          },
          "metadata": {},
          "execution_count": 93
        }
      ]
    },
    {
      "cell_type": "code",
      "metadata": {
        "colab": {
          "base_uri": "https://localhost:8080/"
        },
        "id": "WDbZmEfKjuRT",
        "outputId": "0b84b1f6-06b8-497b-f32e-1010fccdc74b"
      },
      "source": [
        "#Checking duplicates\n",
        "cd_df.duplicated().value_counts()\n",
        "#True counts gives numbers of duplicates rows"
      ],
      "execution_count": null,
      "outputs": [
        {
          "output_type": "execute_result",
          "data": {
            "text/plain": [
              "False    3577\n",
              "True      763\n",
              "dtype: int64"
            ]
          },
          "metadata": {},
          "execution_count": 94
        }
      ]
    },
    {
      "cell_type": "code",
      "metadata": {
        "id": "fTIRXDZgj_OO"
      },
      "source": [
        "#Filtering out duplicates\n",
        "cd_df = cd_df[cd_df.duplicated()==False]"
      ],
      "execution_count": null,
      "outputs": []
    },
    {
      "cell_type": "code",
      "metadata": {
        "colab": {
          "base_uri": "https://localhost:8080/",
          "height": 388
        },
        "id": "TTCUew-zkacz",
        "outputId": "5f93124b-e39c-466f-f960-19a0e349eff6"
      },
      "source": [
        "cd_df.describe(include='all')"
      ],
      "execution_count": null,
      "outputs": [
        {
          "output_type": "execute_result",
          "data": {
            "text/html": [
              "<div>\n",
              "<style scoped>\n",
              "    .dataframe tbody tr th:only-of-type {\n",
              "        vertical-align: middle;\n",
              "    }\n",
              "\n",
              "    .dataframe tbody tr th {\n",
              "        vertical-align: top;\n",
              "    }\n",
              "\n",
              "    .dataframe thead th {\n",
              "        text-align: right;\n",
              "    }\n",
              "</style>\n",
              "<table border=\"1\" class=\"dataframe\">\n",
              "  <thead>\n",
              "    <tr style=\"text-align: right;\">\n",
              "      <th></th>\n",
              "      <th>name</th>\n",
              "      <th>year</th>\n",
              "      <th>selling_price</th>\n",
              "      <th>km_driven</th>\n",
              "      <th>fuel</th>\n",
              "      <th>seller_type</th>\n",
              "      <th>transmission</th>\n",
              "      <th>owner</th>\n",
              "    </tr>\n",
              "  </thead>\n",
              "  <tbody>\n",
              "    <tr>\n",
              "      <th>count</th>\n",
              "      <td>3577</td>\n",
              "      <td>3577.000000</td>\n",
              "      <td>3.577000e+03</td>\n",
              "      <td>3577.000000</td>\n",
              "      <td>3577</td>\n",
              "      <td>3577</td>\n",
              "      <td>3577</td>\n",
              "      <td>3577</td>\n",
              "    </tr>\n",
              "    <tr>\n",
              "      <th>unique</th>\n",
              "      <td>1491</td>\n",
              "      <td>NaN</td>\n",
              "      <td>NaN</td>\n",
              "      <td>NaN</td>\n",
              "      <td>5</td>\n",
              "      <td>3</td>\n",
              "      <td>2</td>\n",
              "      <td>5</td>\n",
              "    </tr>\n",
              "    <tr>\n",
              "      <th>top</th>\n",
              "      <td>Maruti Swift Dzire VDI</td>\n",
              "      <td>NaN</td>\n",
              "      <td>NaN</td>\n",
              "      <td>NaN</td>\n",
              "      <td>Diesel</td>\n",
              "      <td>Individual</td>\n",
              "      <td>Manual</td>\n",
              "      <td>First Owner</td>\n",
              "    </tr>\n",
              "    <tr>\n",
              "      <th>freq</th>\n",
              "      <td>54</td>\n",
              "      <td>NaN</td>\n",
              "      <td>NaN</td>\n",
              "      <td>NaN</td>\n",
              "      <td>1800</td>\n",
              "      <td>2832</td>\n",
              "      <td>3265</td>\n",
              "      <td>2218</td>\n",
              "    </tr>\n",
              "    <tr>\n",
              "      <th>mean</th>\n",
              "      <td>NaN</td>\n",
              "      <td>2012.962538</td>\n",
              "      <td>4.739125e+05</td>\n",
              "      <td>69250.545709</td>\n",
              "      <td>NaN</td>\n",
              "      <td>NaN</td>\n",
              "      <td>NaN</td>\n",
              "      <td>NaN</td>\n",
              "    </tr>\n",
              "    <tr>\n",
              "      <th>std</th>\n",
              "      <td>NaN</td>\n",
              "      <td>4.251759</td>\n",
              "      <td>5.093018e+05</td>\n",
              "      <td>47579.940016</td>\n",
              "      <td>NaN</td>\n",
              "      <td>NaN</td>\n",
              "      <td>NaN</td>\n",
              "      <td>NaN</td>\n",
              "    </tr>\n",
              "    <tr>\n",
              "      <th>min</th>\n",
              "      <td>NaN</td>\n",
              "      <td>1992.000000</td>\n",
              "      <td>2.000000e+04</td>\n",
              "      <td>1.000000</td>\n",
              "      <td>NaN</td>\n",
              "      <td>NaN</td>\n",
              "      <td>NaN</td>\n",
              "      <td>NaN</td>\n",
              "    </tr>\n",
              "    <tr>\n",
              "      <th>25%</th>\n",
              "      <td>NaN</td>\n",
              "      <td>2010.000000</td>\n",
              "      <td>2.000000e+05</td>\n",
              "      <td>36000.000000</td>\n",
              "      <td>NaN</td>\n",
              "      <td>NaN</td>\n",
              "      <td>NaN</td>\n",
              "      <td>NaN</td>\n",
              "    </tr>\n",
              "    <tr>\n",
              "      <th>50%</th>\n",
              "      <td>NaN</td>\n",
              "      <td>2013.000000</td>\n",
              "      <td>3.500000e+05</td>\n",
              "      <td>60000.000000</td>\n",
              "      <td>NaN</td>\n",
              "      <td>NaN</td>\n",
              "      <td>NaN</td>\n",
              "      <td>NaN</td>\n",
              "    </tr>\n",
              "    <tr>\n",
              "      <th>75%</th>\n",
              "      <td>NaN</td>\n",
              "      <td>2016.000000</td>\n",
              "      <td>6.000000e+05</td>\n",
              "      <td>90000.000000</td>\n",
              "      <td>NaN</td>\n",
              "      <td>NaN</td>\n",
              "      <td>NaN</td>\n",
              "      <td>NaN</td>\n",
              "    </tr>\n",
              "    <tr>\n",
              "      <th>max</th>\n",
              "      <td>NaN</td>\n",
              "      <td>2020.000000</td>\n",
              "      <td>8.900000e+06</td>\n",
              "      <td>806599.000000</td>\n",
              "      <td>NaN</td>\n",
              "      <td>NaN</td>\n",
              "      <td>NaN</td>\n",
              "      <td>NaN</td>\n",
              "    </tr>\n",
              "  </tbody>\n",
              "</table>\n",
              "</div>"
            ],
            "text/plain": [
              "                          name         year  ...  transmission        owner\n",
              "count                     3577  3577.000000  ...          3577         3577\n",
              "unique                    1491          NaN  ...             2            5\n",
              "top     Maruti Swift Dzire VDI          NaN  ...        Manual  First Owner\n",
              "freq                        54          NaN  ...          3265         2218\n",
              "mean                       NaN  2012.962538  ...           NaN          NaN\n",
              "std                        NaN     4.251759  ...           NaN          NaN\n",
              "min                        NaN  1992.000000  ...           NaN          NaN\n",
              "25%                        NaN  2010.000000  ...           NaN          NaN\n",
              "50%                        NaN  2013.000000  ...           NaN          NaN\n",
              "75%                        NaN  2016.000000  ...           NaN          NaN\n",
              "max                        NaN  2020.000000  ...           NaN          NaN\n",
              "\n",
              "[11 rows x 8 columns]"
            ]
          },
          "metadata": {},
          "execution_count": 96
        }
      ]
    },
    {
      "cell_type": "code",
      "metadata": {
        "colab": {
          "base_uri": "https://localhost:8080/"
        },
        "id": "PwTwol0s67rG",
        "outputId": "aeab4296-34eb-4f71-abf9-0fc52da894e4"
      },
      "source": [
        "cd_df.columns.to_list()"
      ],
      "execution_count": null,
      "outputs": [
        {
          "output_type": "execute_result",
          "data": {
            "text/plain": [
              "['name',\n",
              " 'year',\n",
              " 'selling_price',\n",
              " 'km_driven',\n",
              " 'fuel',\n",
              " 'seller_type',\n",
              " 'transmission',\n",
              " 'owner']"
            ]
          },
          "metadata": {},
          "execution_count": 97
        }
      ]
    },
    {
      "cell_type": "code",
      "metadata": {
        "id": "A-q--jPHmWvA",
        "cellView": "form"
      },
      "source": [
        "#@title Creating a copy of original dataframe\n",
        "tmp_df = cd_df.copy()"
      ],
      "execution_count": null,
      "outputs": []
    },
    {
      "cell_type": "code",
      "metadata": {
        "colab": {
          "base_uri": "https://localhost:8080/",
          "height": 203
        },
        "id": "hFOfcMjxmeF4",
        "outputId": "ff8c7a1f-cdff-4bce-981d-8b6baf1ea2d2"
      },
      "source": [
        "tmp_df.head()"
      ],
      "execution_count": null,
      "outputs": [
        {
          "output_type": "execute_result",
          "data": {
            "text/html": [
              "<div>\n",
              "<style scoped>\n",
              "    .dataframe tbody tr th:only-of-type {\n",
              "        vertical-align: middle;\n",
              "    }\n",
              "\n",
              "    .dataframe tbody tr th {\n",
              "        vertical-align: top;\n",
              "    }\n",
              "\n",
              "    .dataframe thead th {\n",
              "        text-align: right;\n",
              "    }\n",
              "</style>\n",
              "<table border=\"1\" class=\"dataframe\">\n",
              "  <thead>\n",
              "    <tr style=\"text-align: right;\">\n",
              "      <th></th>\n",
              "      <th>name</th>\n",
              "      <th>year</th>\n",
              "      <th>selling_price</th>\n",
              "      <th>km_driven</th>\n",
              "      <th>fuel</th>\n",
              "      <th>seller_type</th>\n",
              "      <th>transmission</th>\n",
              "      <th>owner</th>\n",
              "    </tr>\n",
              "  </thead>\n",
              "  <tbody>\n",
              "    <tr>\n",
              "      <th>0</th>\n",
              "      <td>Maruti 800 AC</td>\n",
              "      <td>2007</td>\n",
              "      <td>60000</td>\n",
              "      <td>70000</td>\n",
              "      <td>Petrol</td>\n",
              "      <td>Individual</td>\n",
              "      <td>Manual</td>\n",
              "      <td>First Owner</td>\n",
              "    </tr>\n",
              "    <tr>\n",
              "      <th>1</th>\n",
              "      <td>Maruti Wagon R LXI Minor</td>\n",
              "      <td>2007</td>\n",
              "      <td>135000</td>\n",
              "      <td>50000</td>\n",
              "      <td>Petrol</td>\n",
              "      <td>Individual</td>\n",
              "      <td>Manual</td>\n",
              "      <td>First Owner</td>\n",
              "    </tr>\n",
              "    <tr>\n",
              "      <th>2</th>\n",
              "      <td>Hyundai Verna 1.6 SX</td>\n",
              "      <td>2012</td>\n",
              "      <td>600000</td>\n",
              "      <td>100000</td>\n",
              "      <td>Diesel</td>\n",
              "      <td>Individual</td>\n",
              "      <td>Manual</td>\n",
              "      <td>First Owner</td>\n",
              "    </tr>\n",
              "    <tr>\n",
              "      <th>3</th>\n",
              "      <td>Datsun RediGO T Option</td>\n",
              "      <td>2017</td>\n",
              "      <td>250000</td>\n",
              "      <td>46000</td>\n",
              "      <td>Petrol</td>\n",
              "      <td>Individual</td>\n",
              "      <td>Manual</td>\n",
              "      <td>First Owner</td>\n",
              "    </tr>\n",
              "    <tr>\n",
              "      <th>4</th>\n",
              "      <td>Honda Amaze VX i-DTEC</td>\n",
              "      <td>2014</td>\n",
              "      <td>450000</td>\n",
              "      <td>141000</td>\n",
              "      <td>Diesel</td>\n",
              "      <td>Individual</td>\n",
              "      <td>Manual</td>\n",
              "      <td>Second Owner</td>\n",
              "    </tr>\n",
              "  </tbody>\n",
              "</table>\n",
              "</div>"
            ],
            "text/plain": [
              "                       name  year  ...  transmission         owner\n",
              "0             Maruti 800 AC  2007  ...        Manual   First Owner\n",
              "1  Maruti Wagon R LXI Minor  2007  ...        Manual   First Owner\n",
              "2      Hyundai Verna 1.6 SX  2012  ...        Manual   First Owner\n",
              "3    Datsun RediGO T Option  2017  ...        Manual   First Owner\n",
              "4     Honda Amaze VX i-DTEC  2014  ...        Manual  Second Owner\n",
              "\n",
              "[5 rows x 8 columns]"
            ]
          },
          "metadata": {},
          "execution_count": 99
        }
      ]
    },
    {
      "cell_type": "code",
      "metadata": {
        "id": "9OPzs1CsmqCf"
      },
      "source": [
        "tmp_df.rename(columns={'name':'Name','year':'Year','owner':'Ownership type','km_driven':'Kms driven','fuel':'Fuel type','transmission':'Transmission','seller_type':'Seller type','selling_price':'Selling price'},inplace=True)"
      ],
      "execution_count": null,
      "outputs": []
    },
    {
      "cell_type": "code",
      "metadata": {
        "colab": {
          "base_uri": "https://localhost:8080/",
          "height": 417
        },
        "id": "PlJM_c8KnoB3",
        "outputId": "2bb7fbb8-4439-4547-bda8-4cdf3d26da51"
      },
      "source": [
        "tmp_df"
      ],
      "execution_count": null,
      "outputs": [
        {
          "output_type": "execute_result",
          "data": {
            "text/html": [
              "<div>\n",
              "<style scoped>\n",
              "    .dataframe tbody tr th:only-of-type {\n",
              "        vertical-align: middle;\n",
              "    }\n",
              "\n",
              "    .dataframe tbody tr th {\n",
              "        vertical-align: top;\n",
              "    }\n",
              "\n",
              "    .dataframe thead th {\n",
              "        text-align: right;\n",
              "    }\n",
              "</style>\n",
              "<table border=\"1\" class=\"dataframe\">\n",
              "  <thead>\n",
              "    <tr style=\"text-align: right;\">\n",
              "      <th></th>\n",
              "      <th>Name</th>\n",
              "      <th>Year</th>\n",
              "      <th>Selling price</th>\n",
              "      <th>Kms driven</th>\n",
              "      <th>Fuel type</th>\n",
              "      <th>Seller type</th>\n",
              "      <th>Transmission</th>\n",
              "      <th>Ownership type</th>\n",
              "    </tr>\n",
              "  </thead>\n",
              "  <tbody>\n",
              "    <tr>\n",
              "      <th>0</th>\n",
              "      <td>Maruti 800 AC</td>\n",
              "      <td>2007</td>\n",
              "      <td>60000</td>\n",
              "      <td>70000</td>\n",
              "      <td>Petrol</td>\n",
              "      <td>Individual</td>\n",
              "      <td>Manual</td>\n",
              "      <td>First Owner</td>\n",
              "    </tr>\n",
              "    <tr>\n",
              "      <th>1</th>\n",
              "      <td>Maruti Wagon R LXI Minor</td>\n",
              "      <td>2007</td>\n",
              "      <td>135000</td>\n",
              "      <td>50000</td>\n",
              "      <td>Petrol</td>\n",
              "      <td>Individual</td>\n",
              "      <td>Manual</td>\n",
              "      <td>First Owner</td>\n",
              "    </tr>\n",
              "    <tr>\n",
              "      <th>2</th>\n",
              "      <td>Hyundai Verna 1.6 SX</td>\n",
              "      <td>2012</td>\n",
              "      <td>600000</td>\n",
              "      <td>100000</td>\n",
              "      <td>Diesel</td>\n",
              "      <td>Individual</td>\n",
              "      <td>Manual</td>\n",
              "      <td>First Owner</td>\n",
              "    </tr>\n",
              "    <tr>\n",
              "      <th>3</th>\n",
              "      <td>Datsun RediGO T Option</td>\n",
              "      <td>2017</td>\n",
              "      <td>250000</td>\n",
              "      <td>46000</td>\n",
              "      <td>Petrol</td>\n",
              "      <td>Individual</td>\n",
              "      <td>Manual</td>\n",
              "      <td>First Owner</td>\n",
              "    </tr>\n",
              "    <tr>\n",
              "      <th>4</th>\n",
              "      <td>Honda Amaze VX i-DTEC</td>\n",
              "      <td>2014</td>\n",
              "      <td>450000</td>\n",
              "      <td>141000</td>\n",
              "      <td>Diesel</td>\n",
              "      <td>Individual</td>\n",
              "      <td>Manual</td>\n",
              "      <td>Second Owner</td>\n",
              "    </tr>\n",
              "    <tr>\n",
              "      <th>...</th>\n",
              "      <td>...</td>\n",
              "      <td>...</td>\n",
              "      <td>...</td>\n",
              "      <td>...</td>\n",
              "      <td>...</td>\n",
              "      <td>...</td>\n",
              "      <td>...</td>\n",
              "      <td>...</td>\n",
              "    </tr>\n",
              "    <tr>\n",
              "      <th>4335</th>\n",
              "      <td>Hyundai i20 Magna 1.4 CRDi (Diesel)</td>\n",
              "      <td>2014</td>\n",
              "      <td>409999</td>\n",
              "      <td>80000</td>\n",
              "      <td>Diesel</td>\n",
              "      <td>Individual</td>\n",
              "      <td>Manual</td>\n",
              "      <td>Second Owner</td>\n",
              "    </tr>\n",
              "    <tr>\n",
              "      <th>4336</th>\n",
              "      <td>Hyundai i20 Magna 1.4 CRDi</td>\n",
              "      <td>2014</td>\n",
              "      <td>409999</td>\n",
              "      <td>80000</td>\n",
              "      <td>Diesel</td>\n",
              "      <td>Individual</td>\n",
              "      <td>Manual</td>\n",
              "      <td>Second Owner</td>\n",
              "    </tr>\n",
              "    <tr>\n",
              "      <th>4337</th>\n",
              "      <td>Maruti 800 AC BSIII</td>\n",
              "      <td>2009</td>\n",
              "      <td>110000</td>\n",
              "      <td>83000</td>\n",
              "      <td>Petrol</td>\n",
              "      <td>Individual</td>\n",
              "      <td>Manual</td>\n",
              "      <td>Second Owner</td>\n",
              "    </tr>\n",
              "    <tr>\n",
              "      <th>4338</th>\n",
              "      <td>Hyundai Creta 1.6 CRDi SX Option</td>\n",
              "      <td>2016</td>\n",
              "      <td>865000</td>\n",
              "      <td>90000</td>\n",
              "      <td>Diesel</td>\n",
              "      <td>Individual</td>\n",
              "      <td>Manual</td>\n",
              "      <td>First Owner</td>\n",
              "    </tr>\n",
              "    <tr>\n",
              "      <th>4339</th>\n",
              "      <td>Renault KWID RXT</td>\n",
              "      <td>2016</td>\n",
              "      <td>225000</td>\n",
              "      <td>40000</td>\n",
              "      <td>Petrol</td>\n",
              "      <td>Individual</td>\n",
              "      <td>Manual</td>\n",
              "      <td>First Owner</td>\n",
              "    </tr>\n",
              "  </tbody>\n",
              "</table>\n",
              "<p>3577 rows × 8 columns</p>\n",
              "</div>"
            ],
            "text/plain": [
              "                                     Name  Year  ...  Transmission  Ownership type\n",
              "0                           Maruti 800 AC  2007  ...        Manual     First Owner\n",
              "1                Maruti Wagon R LXI Minor  2007  ...        Manual     First Owner\n",
              "2                    Hyundai Verna 1.6 SX  2012  ...        Manual     First Owner\n",
              "3                  Datsun RediGO T Option  2017  ...        Manual     First Owner\n",
              "4                   Honda Amaze VX i-DTEC  2014  ...        Manual    Second Owner\n",
              "...                                   ...   ...  ...           ...             ...\n",
              "4335  Hyundai i20 Magna 1.4 CRDi (Diesel)  2014  ...        Manual    Second Owner\n",
              "4336           Hyundai i20 Magna 1.4 CRDi  2014  ...        Manual    Second Owner\n",
              "4337                  Maruti 800 AC BSIII  2009  ...        Manual    Second Owner\n",
              "4338     Hyundai Creta 1.6 CRDi SX Option  2016  ...        Manual     First Owner\n",
              "4339                     Renault KWID RXT  2016  ...        Manual     First Owner\n",
              "\n",
              "[3577 rows x 8 columns]"
            ]
          },
          "metadata": {},
          "execution_count": 101
        }
      ]
    },
    {
      "cell_type": "code",
      "metadata": {
        "id": "MF7M2jPpof0g"
      },
      "source": [
        "tmp_df.reset_index(inplace=True)"
      ],
      "execution_count": null,
      "outputs": []
    },
    {
      "cell_type": "code",
      "metadata": {
        "id": "sdfIfiLyosen"
      },
      "source": [
        "tmp_df.drop('index',axis=1,inplace=True)"
      ],
      "execution_count": null,
      "outputs": []
    },
    {
      "cell_type": "code",
      "metadata": {
        "colab": {
          "base_uri": "https://localhost:8080/",
          "height": 417
        },
        "id": "h6RmSJY4pj07",
        "outputId": "608f064e-6db7-443d-de50-18085129ad77"
      },
      "source": [
        "tmp_df"
      ],
      "execution_count": null,
      "outputs": [
        {
          "output_type": "execute_result",
          "data": {
            "text/html": [
              "<div>\n",
              "<style scoped>\n",
              "    .dataframe tbody tr th:only-of-type {\n",
              "        vertical-align: middle;\n",
              "    }\n",
              "\n",
              "    .dataframe tbody tr th {\n",
              "        vertical-align: top;\n",
              "    }\n",
              "\n",
              "    .dataframe thead th {\n",
              "        text-align: right;\n",
              "    }\n",
              "</style>\n",
              "<table border=\"1\" class=\"dataframe\">\n",
              "  <thead>\n",
              "    <tr style=\"text-align: right;\">\n",
              "      <th></th>\n",
              "      <th>Name</th>\n",
              "      <th>Year</th>\n",
              "      <th>Selling price</th>\n",
              "      <th>Kms driven</th>\n",
              "      <th>Fuel type</th>\n",
              "      <th>Seller type</th>\n",
              "      <th>Transmission</th>\n",
              "      <th>Ownership type</th>\n",
              "    </tr>\n",
              "  </thead>\n",
              "  <tbody>\n",
              "    <tr>\n",
              "      <th>0</th>\n",
              "      <td>Maruti 800 AC</td>\n",
              "      <td>2007</td>\n",
              "      <td>60000</td>\n",
              "      <td>70000</td>\n",
              "      <td>Petrol</td>\n",
              "      <td>Individual</td>\n",
              "      <td>Manual</td>\n",
              "      <td>First Owner</td>\n",
              "    </tr>\n",
              "    <tr>\n",
              "      <th>1</th>\n",
              "      <td>Maruti Wagon R LXI Minor</td>\n",
              "      <td>2007</td>\n",
              "      <td>135000</td>\n",
              "      <td>50000</td>\n",
              "      <td>Petrol</td>\n",
              "      <td>Individual</td>\n",
              "      <td>Manual</td>\n",
              "      <td>First Owner</td>\n",
              "    </tr>\n",
              "    <tr>\n",
              "      <th>2</th>\n",
              "      <td>Hyundai Verna 1.6 SX</td>\n",
              "      <td>2012</td>\n",
              "      <td>600000</td>\n",
              "      <td>100000</td>\n",
              "      <td>Diesel</td>\n",
              "      <td>Individual</td>\n",
              "      <td>Manual</td>\n",
              "      <td>First Owner</td>\n",
              "    </tr>\n",
              "    <tr>\n",
              "      <th>3</th>\n",
              "      <td>Datsun RediGO T Option</td>\n",
              "      <td>2017</td>\n",
              "      <td>250000</td>\n",
              "      <td>46000</td>\n",
              "      <td>Petrol</td>\n",
              "      <td>Individual</td>\n",
              "      <td>Manual</td>\n",
              "      <td>First Owner</td>\n",
              "    </tr>\n",
              "    <tr>\n",
              "      <th>4</th>\n",
              "      <td>Honda Amaze VX i-DTEC</td>\n",
              "      <td>2014</td>\n",
              "      <td>450000</td>\n",
              "      <td>141000</td>\n",
              "      <td>Diesel</td>\n",
              "      <td>Individual</td>\n",
              "      <td>Manual</td>\n",
              "      <td>Second Owner</td>\n",
              "    </tr>\n",
              "    <tr>\n",
              "      <th>...</th>\n",
              "      <td>...</td>\n",
              "      <td>...</td>\n",
              "      <td>...</td>\n",
              "      <td>...</td>\n",
              "      <td>...</td>\n",
              "      <td>...</td>\n",
              "      <td>...</td>\n",
              "      <td>...</td>\n",
              "    </tr>\n",
              "    <tr>\n",
              "      <th>3572</th>\n",
              "      <td>Hyundai i20 Magna 1.4 CRDi (Diesel)</td>\n",
              "      <td>2014</td>\n",
              "      <td>409999</td>\n",
              "      <td>80000</td>\n",
              "      <td>Diesel</td>\n",
              "      <td>Individual</td>\n",
              "      <td>Manual</td>\n",
              "      <td>Second Owner</td>\n",
              "    </tr>\n",
              "    <tr>\n",
              "      <th>3573</th>\n",
              "      <td>Hyundai i20 Magna 1.4 CRDi</td>\n",
              "      <td>2014</td>\n",
              "      <td>409999</td>\n",
              "      <td>80000</td>\n",
              "      <td>Diesel</td>\n",
              "      <td>Individual</td>\n",
              "      <td>Manual</td>\n",
              "      <td>Second Owner</td>\n",
              "    </tr>\n",
              "    <tr>\n",
              "      <th>3574</th>\n",
              "      <td>Maruti 800 AC BSIII</td>\n",
              "      <td>2009</td>\n",
              "      <td>110000</td>\n",
              "      <td>83000</td>\n",
              "      <td>Petrol</td>\n",
              "      <td>Individual</td>\n",
              "      <td>Manual</td>\n",
              "      <td>Second Owner</td>\n",
              "    </tr>\n",
              "    <tr>\n",
              "      <th>3575</th>\n",
              "      <td>Hyundai Creta 1.6 CRDi SX Option</td>\n",
              "      <td>2016</td>\n",
              "      <td>865000</td>\n",
              "      <td>90000</td>\n",
              "      <td>Diesel</td>\n",
              "      <td>Individual</td>\n",
              "      <td>Manual</td>\n",
              "      <td>First Owner</td>\n",
              "    </tr>\n",
              "    <tr>\n",
              "      <th>3576</th>\n",
              "      <td>Renault KWID RXT</td>\n",
              "      <td>2016</td>\n",
              "      <td>225000</td>\n",
              "      <td>40000</td>\n",
              "      <td>Petrol</td>\n",
              "      <td>Individual</td>\n",
              "      <td>Manual</td>\n",
              "      <td>First Owner</td>\n",
              "    </tr>\n",
              "  </tbody>\n",
              "</table>\n",
              "<p>3577 rows × 8 columns</p>\n",
              "</div>"
            ],
            "text/plain": [
              "                                     Name  Year  ...  Transmission  Ownership type\n",
              "0                           Maruti 800 AC  2007  ...        Manual     First Owner\n",
              "1                Maruti Wagon R LXI Minor  2007  ...        Manual     First Owner\n",
              "2                    Hyundai Verna 1.6 SX  2012  ...        Manual     First Owner\n",
              "3                  Datsun RediGO T Option  2017  ...        Manual     First Owner\n",
              "4                   Honda Amaze VX i-DTEC  2014  ...        Manual    Second Owner\n",
              "...                                   ...   ...  ...           ...             ...\n",
              "3572  Hyundai i20 Magna 1.4 CRDi (Diesel)  2014  ...        Manual    Second Owner\n",
              "3573           Hyundai i20 Magna 1.4 CRDi  2014  ...        Manual    Second Owner\n",
              "3574                  Maruti 800 AC BSIII  2009  ...        Manual    Second Owner\n",
              "3575     Hyundai Creta 1.6 CRDi SX Option  2016  ...        Manual     First Owner\n",
              "3576                     Renault KWID RXT  2016  ...        Manual     First Owner\n",
              "\n",
              "[3577 rows x 8 columns]"
            ]
          },
          "metadata": {},
          "execution_count": 104
        }
      ]
    },
    {
      "cell_type": "code",
      "metadata": {
        "colab": {
          "base_uri": "https://localhost:8080/",
          "height": 374
        },
        "id": "zf2NDAShv2qo",
        "outputId": "beaf6ba3-35a0-4741-8c9c-5f5eee1722d9"
      },
      "source": [
        "#Distribution of ownership types\n",
        "tmp_df['Ownership type'].value_counts().plot(kind='barh',figsize=(14,6));"
      ],
      "execution_count": null,
      "outputs": [
        {
          "output_type": "display_data",
          "data": {
            "image/png": "[encoded data removed]",
            "text/plain": [
              "<Figure size 1008x432 with 1 Axes>"
            ]
          },
          "metadata": {
            "needs_background": "light"
          }
        }
      ]
    },
    {
      "cell_type": "markdown",
      "metadata": {
        "id": "GcHh0jobkD1P"
      },
      "source": [
        "### **Majority is first owners which is true as people look for new cars**"
      ]
    },
    {
      "cell_type": "code",
      "metadata": {
        "colab": {
          "base_uri": "https://localhost:8080/",
          "height": 265
        },
        "id": "MGq0svzmxIQn",
        "outputId": "a5382d81-0456-4574-929e-c21d26a21a6e"
      },
      "source": [
        "#Transmission types\n",
        "tmp_df['Transmission'].value_counts().plot(kind='barh');"
      ],
      "execution_count": null,
      "outputs": [
        {
          "output_type": "display_data",
          "data": {
            "image/png": "[encoded data removed]",
            "text/plain": [
              "<Figure size 432x288 with 1 Axes>"
            ]
          },
          "metadata": {
            "needs_background": "light"
          }
        }
      ]
    },
    {
      "cell_type": "markdown",
      "metadata": {
        "id": "Y9MFlJqdkeBI"
      },
      "source": [
        "### **Most cars use manual transmission and gear control instead of automatics**"
      ]
    },
    {
      "cell_type": "code",
      "metadata": {
        "colab": {
          "base_uri": "https://localhost:8080/",
          "height": 265
        },
        "id": "UjyD0dYU4rfr",
        "outputId": "cd3c0b03-5dfe-4fae-edc4-21fc70b3b3ff"
      },
      "source": [
        "#Fuel types distribution\n",
        "tmp_df['Fuel type'].value_counts().plot(kind='barh');"
      ],
      "execution_count": null,
      "outputs": [
        {
          "output_type": "display_data",
          "data": {
            "image/png": "[encoded data removed]",
            "text/plain": [
              "<Figure size 432x288 with 1 Axes>"
            ]
          },
          "metadata": {
            "needs_background": "light"
          }
        }
      ]
    },
    {
      "cell_type": "code",
      "metadata": {
        "colab": {
          "base_uri": "https://localhost:8080/",
          "height": 265
        },
        "id": "jXPQUhWe5wBu",
        "outputId": "d99089df-c09f-497a-d8a1-8b4b0c599005"
      },
      "source": [
        "#Seller type\n",
        "tmp_df['Seller type'].value_counts().plot(kind='barh');"
      ],
      "execution_count": null,
      "outputs": [
        {
          "output_type": "display_data",
          "data": {
            "image/png": "[encoded data removed]",
            "text/plain": [
              "<Figure size 432x288 with 1 Axes>"
            ]
          },
          "metadata": {
            "needs_background": "light"
          }
        }
      ]
    },
    {
      "cell_type": "code",
      "metadata": {
        "id": "5Yu5RHHb0BZV"
      },
      "source": [
        "#Age of vehicle is current year - year of manufacturer\n",
        "tmp_df['Age'] = pd.datetime.now().year - tmp_df['Year']"
      ],
      "execution_count": null,
      "outputs": []
    },
    {
      "cell_type": "code",
      "metadata": {
        "colab": {
          "base_uri": "https://localhost:8080/",
          "height": 500
        },
        "id": "U4Kt7WDM7jBD",
        "outputId": "9ae2741c-544d-41ab-8c72-e403b14fe2f8"
      },
      "source": [
        "tmp_df['Age'].value_counts().plot(kind='bar',figsize=(10,8))\n",
        "plt.xlabel(\"Age (in years)\")\n",
        "plt.ylabel(\"Count\");"
      ],
      "execution_count": null,
      "outputs": [
        {
          "output_type": "display_data",
          "data": {
            "image/png": "[encoded data removed]",
            "text/plain": [
              "<Figure size 720x576 with 1 Axes>"
            ]
          },
          "metadata": {
            "needs_background": "light"
          }
        }
      ]
    },
    {
      "cell_type": "code",
      "metadata": {
        "colab": {
          "base_uri": "https://localhost:8080/",
          "height": 622
        },
        "id": "7vXU7otY-_AV",
        "outputId": "308ef36e-dc88-4112-e459-dff00adda468"
      },
      "source": [
        "#@title Swarmplot of various manufacturers vs their price\n",
        "plt.subplots(figsize=(20,10))\n",
        "ax=sns.swarmplot(x='Age',y='Selling price',data=tmp_df)\n",
        "ax.set_xticklabels(ax.get_xticklabels(),rotation=40,ha='right');"
      ],
      "execution_count": null,
      "outputs": [
        {
          "output_type": "display_data",
          "data": {
            "image/png": "[encoded data removed]",
            "text/plain": [
              "<Figure size 1440x720 with 1 Axes>"
            ]
          },
          "metadata": {
            "needs_background": "light"
          }
        }
      ]
    },
    {
      "cell_type": "markdown",
      "metadata": {
        "id": "WKXoMFaO_kRu"
      },
      "source": [
        "### **Rightly skewed distribution for age as newer cars tend to have more value than older cars**"
      ]
    },
    {
      "cell_type": "code",
      "metadata": {
        "id": "C4ScwxzC0LOj"
      },
      "source": [
        "tmp_df.drop('Year',axis=1,inplace=True)"
      ],
      "execution_count": null,
      "outputs": []
    },
    {
      "cell_type": "code",
      "metadata": {
        "id": "FV4Hb4z-22wX"
      },
      "source": [
        "#Manufacturer/ company of car is first word in the name\n",
        "tmp_df['Manufacturer'] = tmp_df['Name'].str.split(' ').str[0]"
      ],
      "execution_count": null,
      "outputs": []
    },
    {
      "cell_type": "code",
      "metadata": {
        "id": "rLH0VAFu8ZGC"
      },
      "source": [
        "tmp_df['Model'] = tmp_df['Name'].str.split(' ').str[1]"
      ],
      "execution_count": null,
      "outputs": []
    },
    {
      "cell_type": "code",
      "metadata": {
        "colab": {
          "base_uri": "https://localhost:8080/",
          "height": 454
        },
        "id": "X269oQb62_2m",
        "outputId": "a1d24de3-d7b3-4312-b58d-6d0d9c641c46"
      },
      "source": [
        "tmp_df['Manufacturer'].value_counts().plot(kind='bar',figsize=(14,6))\n",
        "plt.xlabel(\"Manufacturer name\")\n",
        "plt.ylabel(\"Count\");"
      ],
      "execution_count": null,
      "outputs": [
        {
          "output_type": "display_data",
          "data": {
            "image/png": "[encoded data removed]",
            "text/plain": [
              "<Figure size 1008x432 with 1 Axes>"
            ]
          },
          "metadata": {
            "needs_background": "light"
          }
        }
      ]
    },
    {
      "cell_type": "markdown",
      "metadata": {
        "id": "IHJ5uKlW_uN7"
      },
      "source": [
        "### **Maruti is the leading manufacturer of cars**"
      ]
    },
    {
      "cell_type": "code",
      "metadata": {
        "colab": {
          "base_uri": "https://localhost:8080/",
          "height": 663
        },
        "cellView": "form",
        "id": "c5uBbwRD98ny",
        "outputId": "34488107-5214-40fc-c14c-85ebe536d8dc"
      },
      "source": [
        "#@title Boxplot of various manufacturers vs their price\n",
        "plt.subplots(figsize=(20,10))\n",
        "ax=sns.boxplot(x='Manufacturer',y='Selling price',data=tmp_df)\n",
        "ax.set_xticklabels(ax.get_xticklabels(),rotation=40,ha='right');"
      ],
      "execution_count": null,
      "outputs": [
        {
          "output_type": "display_data",
          "data": {
            "image/png": "[encoded data removed]",
            "text/plain": [
              "<Figure size 1440x720 with 1 Axes>"
            ]
          },
          "metadata": {
            "needs_background": "light"
          }
        }
      ]
    },
    {
      "cell_type": "code",
      "metadata": {
        "colab": {
          "base_uri": "https://localhost:8080/",
          "height": 616
        },
        "cellView": "form",
        "id": "20Nr83DxAI1S",
        "outputId": "4f469852-41da-49f7-e001-a6296ed49fe1"
      },
      "source": [
        "#@title Boxplot for fuel type vs price\n",
        "plt.subplots(figsize=(14,10))\n",
        "sns.boxplot(x='Fuel type',y='Selling price',data=tmp_df);"
      ],
      "execution_count": null,
      "outputs": [
        {
          "output_type": "display_data",
          "data": {
            "image/png": "[encoded data removed]",
            "text/plain": [
              "<Figure size 1008x720 with 1 Axes>"
            ]
          },
          "metadata": {
            "needs_background": "light"
          }
        }
      ]
    },
    {
      "cell_type": "code",
      "metadata": {
        "colab": {
          "base_uri": "https://localhost:8080/",
          "height": 441
        },
        "id": "_GVokncYBB_p",
        "outputId": "4d489ab7-e2df-4508-83f7-433d27cc8d0a"
      },
      "source": [
        "sns.jointplot(x=np.log10(tmp_df['Kms driven']), y=np.log10(tmp_df['Selling price']), kind='reg',joint_kws={'line_kws':{'color':'darkred'}});"
      ],
      "execution_count": null,
      "outputs": [
        {
          "output_type": "display_data",
          "data": {
            "image/png": "[encoded data removed]",
            "text/plain": [
              "<Figure size 432x432 with 3 Axes>"
            ]
          },
          "metadata": {
            "needs_background": "light"
          }
        }
      ]
    },
    {
      "cell_type": "code",
      "metadata": {
        "colab": {
          "base_uri": "https://localhost:8080/",
          "height": 441
        },
        "id": "fncFH3SuCBGT",
        "outputId": "065c5e00-ba55-4fcc-cbf9-eaa506fd9999"
      },
      "source": [
        "sns.jointplot(x=np.log10(tmp_df['Age']), y=np.log10(tmp_df['Selling price']), kind='reg',joint_kws={'line_kws':{'color':'darkred'}});"
      ],
      "execution_count": null,
      "outputs": [
        {
          "output_type": "display_data",
          "data": {
            "image/png": "[encoded data removed]",
            "text/plain": [
              "<Figure size 432x432 with 3 Axes>"
            ]
          },
          "metadata": {
            "needs_background": "light"
          }
        }
      ]
    },
    {
      "cell_type": "markdown",
      "metadata": {
        "id": "vkP_OgHAlbYs"
      },
      "source": [
        "### **Negative linear correlation between age and driven kms with selling price as**\n",
        "### * **Newer the car, more the price**\n",
        "### * **Less the car has been used, more the price** "
      ]
    },
    {
      "cell_type": "code",
      "metadata": {
        "id": "P7aAYETNDvZ5"
      },
      "source": [
        "mean_price = tmp_df.groupby('Model')['Selling price'].mean()"
      ],
      "execution_count": null,
      "outputs": []
    },
    {
      "cell_type": "code",
      "metadata": {
        "colab": {
          "base_uri": "https://localhost:8080/"
        },
        "id": "OcriAVIr8lBT",
        "outputId": "5bbcebf0-9a1b-463e-cc3e-41e3e1c03966"
      },
      "source": [
        "mean_price"
      ],
      "execution_count": null,
      "outputs": [
        {
          "output_type": "execute_result",
          "data": {
            "text/plain": [
              "Model\n",
              "1.4        3.500000e+04\n",
              "1.6Gls     1.420000e+05\n",
              "3          2.105714e+06\n",
              "5          2.836000e+06\n",
              "500        2.509990e+05\n",
              "               ...     \n",
              "Zen        1.120784e+05\n",
              "Zest       3.617857e+05\n",
              "i10        2.329166e+05\n",
              "i20        4.731947e+05\n",
              "redi-GO    2.900000e+05\n",
              "Name: Selling price, Length: 185, dtype: float64"
            ]
          },
          "metadata": {},
          "execution_count": 121
        }
      ]
    },
    {
      "cell_type": "code",
      "metadata": {
        "id": "SCA_65CXEEqD"
      },
      "source": [
        "tmp_df = tmp_df.merge(mean_price,on='Model',how='left')"
      ],
      "execution_count": null,
      "outputs": []
    },
    {
      "cell_type": "code",
      "metadata": {
        "colab": {
          "base_uri": "https://localhost:8080/",
          "height": 417
        },
        "cellView": "form",
        "id": "jpqHulO5Tee-",
        "outputId": "b69d821f-8a95-40d1-d8fa-2df31b8f1877"
      },
      "source": [
        "#@title Getting mean prices of cars based on the manufacturer and model\n",
        "tmp_df"
      ],
      "execution_count": null,
      "outputs": [
        {
          "output_type": "execute_result",
          "data": {
            "text/html": [
              "<div>\n",
              "<style scoped>\n",
              "    .dataframe tbody tr th:only-of-type {\n",
              "        vertical-align: middle;\n",
              "    }\n",
              "\n",
              "    .dataframe tbody tr th {\n",
              "        vertical-align: top;\n",
              "    }\n",
              "\n",
              "    .dataframe thead th {\n",
              "        text-align: right;\n",
              "    }\n",
              "</style>\n",
              "<table border=\"1\" class=\"dataframe\">\n",
              "  <thead>\n",
              "    <tr style=\"text-align: right;\">\n",
              "      <th></th>\n",
              "      <th>Name</th>\n",
              "      <th>Selling price_x</th>\n",
              "      <th>Kms driven</th>\n",
              "      <th>Fuel type</th>\n",
              "      <th>Seller type</th>\n",
              "      <th>Transmission</th>\n",
              "      <th>Ownership type</th>\n",
              "      <th>Age</th>\n",
              "      <th>Manufacturer</th>\n",
              "      <th>Model</th>\n",
              "      <th>Selling price_y</th>\n",
              "    </tr>\n",
              "  </thead>\n",
              "  <tbody>\n",
              "    <tr>\n",
              "      <th>0</th>\n",
              "      <td>Maruti 800 AC</td>\n",
              "      <td>60000</td>\n",
              "      <td>70000</td>\n",
              "      <td>Petrol</td>\n",
              "      <td>Individual</td>\n",
              "      <td>Manual</td>\n",
              "      <td>First Owner</td>\n",
              "      <td>14</td>\n",
              "      <td>Maruti</td>\n",
              "      <td>800</td>\n",
              "      <td>8.351961e+04</td>\n",
              "    </tr>\n",
              "    <tr>\n",
              "      <th>1</th>\n",
              "      <td>Maruti Wagon R LXI Minor</td>\n",
              "      <td>135000</td>\n",
              "      <td>50000</td>\n",
              "      <td>Petrol</td>\n",
              "      <td>Individual</td>\n",
              "      <td>Manual</td>\n",
              "      <td>First Owner</td>\n",
              "      <td>14</td>\n",
              "      <td>Maruti</td>\n",
              "      <td>Wagon</td>\n",
              "      <td>2.210935e+05</td>\n",
              "    </tr>\n",
              "    <tr>\n",
              "      <th>2</th>\n",
              "      <td>Hyundai Verna 1.6 SX</td>\n",
              "      <td>600000</td>\n",
              "      <td>100000</td>\n",
              "      <td>Diesel</td>\n",
              "      <td>Individual</td>\n",
              "      <td>Manual</td>\n",
              "      <td>First Owner</td>\n",
              "      <td>9</td>\n",
              "      <td>Hyundai</td>\n",
              "      <td>Verna</td>\n",
              "      <td>5.254465e+05</td>\n",
              "    </tr>\n",
              "    <tr>\n",
              "      <th>3</th>\n",
              "      <td>Datsun RediGO T Option</td>\n",
              "      <td>250000</td>\n",
              "      <td>46000</td>\n",
              "      <td>Petrol</td>\n",
              "      <td>Individual</td>\n",
              "      <td>Manual</td>\n",
              "      <td>First Owner</td>\n",
              "      <td>4</td>\n",
              "      <td>Datsun</td>\n",
              "      <td>RediGO</td>\n",
              "      <td>2.604545e+05</td>\n",
              "    </tr>\n",
              "    <tr>\n",
              "      <th>4</th>\n",
              "      <td>Honda Amaze VX i-DTEC</td>\n",
              "      <td>450000</td>\n",
              "      <td>141000</td>\n",
              "      <td>Diesel</td>\n",
              "      <td>Individual</td>\n",
              "      <td>Manual</td>\n",
              "      <td>Second Owner</td>\n",
              "      <td>7</td>\n",
              "      <td>Honda</td>\n",
              "      <td>Amaze</td>\n",
              "      <td>4.970434e+05</td>\n",
              "    </tr>\n",
              "    <tr>\n",
              "      <th>...</th>\n",
              "      <td>...</td>\n",
              "      <td>...</td>\n",
              "      <td>...</td>\n",
              "      <td>...</td>\n",
              "      <td>...</td>\n",
              "      <td>...</td>\n",
              "      <td>...</td>\n",
              "      <td>...</td>\n",
              "      <td>...</td>\n",
              "      <td>...</td>\n",
              "      <td>...</td>\n",
              "    </tr>\n",
              "    <tr>\n",
              "      <th>3572</th>\n",
              "      <td>Hyundai i20 Magna 1.4 CRDi (Diesel)</td>\n",
              "      <td>409999</td>\n",
              "      <td>80000</td>\n",
              "      <td>Diesel</td>\n",
              "      <td>Individual</td>\n",
              "      <td>Manual</td>\n",
              "      <td>Second Owner</td>\n",
              "      <td>7</td>\n",
              "      <td>Hyundai</td>\n",
              "      <td>i20</td>\n",
              "      <td>4.731947e+05</td>\n",
              "    </tr>\n",
              "    <tr>\n",
              "      <th>3573</th>\n",
              "      <td>Hyundai i20 Magna 1.4 CRDi</td>\n",
              "      <td>409999</td>\n",
              "      <td>80000</td>\n",
              "      <td>Diesel</td>\n",
              "      <td>Individual</td>\n",
              "      <td>Manual</td>\n",
              "      <td>Second Owner</td>\n",
              "      <td>7</td>\n",
              "      <td>Hyundai</td>\n",
              "      <td>i20</td>\n",
              "      <td>4.731947e+05</td>\n",
              "    </tr>\n",
              "    <tr>\n",
              "      <th>3574</th>\n",
              "      <td>Maruti 800 AC BSIII</td>\n",
              "      <td>110000</td>\n",
              "      <td>83000</td>\n",
              "      <td>Petrol</td>\n",
              "      <td>Individual</td>\n",
              "      <td>Manual</td>\n",
              "      <td>Second Owner</td>\n",
              "      <td>12</td>\n",
              "      <td>Maruti</td>\n",
              "      <td>800</td>\n",
              "      <td>8.351961e+04</td>\n",
              "    </tr>\n",
              "    <tr>\n",
              "      <th>3575</th>\n",
              "      <td>Hyundai Creta 1.6 CRDi SX Option</td>\n",
              "      <td>865000</td>\n",
              "      <td>90000</td>\n",
              "      <td>Diesel</td>\n",
              "      <td>Individual</td>\n",
              "      <td>Manual</td>\n",
              "      <td>First Owner</td>\n",
              "      <td>5</td>\n",
              "      <td>Hyundai</td>\n",
              "      <td>Creta</td>\n",
              "      <td>1.013727e+06</td>\n",
              "    </tr>\n",
              "    <tr>\n",
              "      <th>3576</th>\n",
              "      <td>Renault KWID RXT</td>\n",
              "      <td>225000</td>\n",
              "      <td>40000</td>\n",
              "      <td>Petrol</td>\n",
              "      <td>Individual</td>\n",
              "      <td>Manual</td>\n",
              "      <td>First Owner</td>\n",
              "      <td>5</td>\n",
              "      <td>Renault</td>\n",
              "      <td>KWID</td>\n",
              "      <td>2.999273e+05</td>\n",
              "    </tr>\n",
              "  </tbody>\n",
              "</table>\n",
              "<p>3577 rows × 11 columns</p>\n",
              "</div>"
            ],
            "text/plain": [
              "                                     Name  ...  Selling price_y\n",
              "0                           Maruti 800 AC  ...     8.351961e+04\n",
              "1                Maruti Wagon R LXI Minor  ...     2.210935e+05\n",
              "2                    Hyundai Verna 1.6 SX  ...     5.254465e+05\n",
              "3                  Datsun RediGO T Option  ...     2.604545e+05\n",
              "4                   Honda Amaze VX i-DTEC  ...     4.970434e+05\n",
              "...                                   ...  ...              ...\n",
              "3572  Hyundai i20 Magna 1.4 CRDi (Diesel)  ...     4.731947e+05\n",
              "3573           Hyundai i20 Magna 1.4 CRDi  ...     4.731947e+05\n",
              "3574                  Maruti 800 AC BSIII  ...     8.351961e+04\n",
              "3575     Hyundai Creta 1.6 CRDi SX Option  ...     1.013727e+06\n",
              "3576                     Renault KWID RXT  ...     2.999273e+05\n",
              "\n",
              "[3577 rows x 11 columns]"
            ]
          },
          "metadata": {},
          "execution_count": 123
        }
      ]
    },
    {
      "cell_type": "code",
      "metadata": {
        "id": "8e6WjifLE4GX"
      },
      "source": [
        "tmp_df.rename(columns={'Selling price_x':'Final price','Selling price_y':'Mean price'},inplace=True)"
      ],
      "execution_count": null,
      "outputs": []
    },
    {
      "cell_type": "code",
      "metadata": {
        "colab": {
          "base_uri": "https://localhost:8080/",
          "height": 417
        },
        "id": "sw8x9ZM0FV04",
        "outputId": "7c079db6-44eb-4612-8b7b-b43123768e4e"
      },
      "source": [
        "tmp_df"
      ],
      "execution_count": null,
      "outputs": [
        {
          "output_type": "execute_result",
          "data": {
            "text/html": [
              "<div>\n",
              "<style scoped>\n",
              "    .dataframe tbody tr th:only-of-type {\n",
              "        vertical-align: middle;\n",
              "    }\n",
              "\n",
              "    .dataframe tbody tr th {\n",
              "        vertical-align: top;\n",
              "    }\n",
              "\n",
              "    .dataframe thead th {\n",
              "        text-align: right;\n",
              "    }\n",
              "</style>\n",
              "<table border=\"1\" class=\"dataframe\">\n",
              "  <thead>\n",
              "    <tr style=\"text-align: right;\">\n",
              "      <th></th>\n",
              "      <th>Name</th>\n",
              "      <th>Final price</th>\n",
              "      <th>Kms driven</th>\n",
              "      <th>Fuel type</th>\n",
              "      <th>Seller type</th>\n",
              "      <th>Transmission</th>\n",
              "      <th>Ownership type</th>\n",
              "      <th>Age</th>\n",
              "      <th>Manufacturer</th>\n",
              "      <th>Model</th>\n",
              "      <th>Mean price</th>\n",
              "    </tr>\n",
              "  </thead>\n",
              "  <tbody>\n",
              "    <tr>\n",
              "      <th>0</th>\n",
              "      <td>Maruti 800 AC</td>\n",
              "      <td>60000</td>\n",
              "      <td>70000</td>\n",
              "      <td>Petrol</td>\n",
              "      <td>Individual</td>\n",
              "      <td>Manual</td>\n",
              "      <td>First Owner</td>\n",
              "      <td>14</td>\n",
              "      <td>Maruti</td>\n",
              "      <td>800</td>\n",
              "      <td>8.351961e+04</td>\n",
              "    </tr>\n",
              "    <tr>\n",
              "      <th>1</th>\n",
              "      <td>Maruti Wagon R LXI Minor</td>\n",
              "      <td>135000</td>\n",
              "      <td>50000</td>\n",
              "      <td>Petrol</td>\n",
              "      <td>Individual</td>\n",
              "      <td>Manual</td>\n",
              "      <td>First Owner</td>\n",
              "      <td>14</td>\n",
              "      <td>Maruti</td>\n",
              "      <td>Wagon</td>\n",
              "      <td>2.210935e+05</td>\n",
              "    </tr>\n",
              "    <tr>\n",
              "      <th>2</th>\n",
              "      <td>Hyundai Verna 1.6 SX</td>\n",
              "      <td>600000</td>\n",
              "      <td>100000</td>\n",
              "      <td>Diesel</td>\n",
              "      <td>Individual</td>\n",
              "      <td>Manual</td>\n",
              "      <td>First Owner</td>\n",
              "      <td>9</td>\n",
              "      <td>Hyundai</td>\n",
              "      <td>Verna</td>\n",
              "      <td>5.254465e+05</td>\n",
              "    </tr>\n",
              "    <tr>\n",
              "      <th>3</th>\n",
              "      <td>Datsun RediGO T Option</td>\n",
              "      <td>250000</td>\n",
              "      <td>46000</td>\n",
              "      <td>Petrol</td>\n",
              "      <td>Individual</td>\n",
              "      <td>Manual</td>\n",
              "      <td>First Owner</td>\n",
              "      <td>4</td>\n",
              "      <td>Datsun</td>\n",
              "      <td>RediGO</td>\n",
              "      <td>2.604545e+05</td>\n",
              "    </tr>\n",
              "    <tr>\n",
              "      <th>4</th>\n",
              "      <td>Honda Amaze VX i-DTEC</td>\n",
              "      <td>450000</td>\n",
              "      <td>141000</td>\n",
              "      <td>Diesel</td>\n",
              "      <td>Individual</td>\n",
              "      <td>Manual</td>\n",
              "      <td>Second Owner</td>\n",
              "      <td>7</td>\n",
              "      <td>Honda</td>\n",
              "      <td>Amaze</td>\n",
              "      <td>4.970434e+05</td>\n",
              "    </tr>\n",
              "    <tr>\n",
              "      <th>...</th>\n",
              "      <td>...</td>\n",
              "      <td>...</td>\n",
              "      <td>...</td>\n",
              "      <td>...</td>\n",
              "      <td>...</td>\n",
              "      <td>...</td>\n",
              "      <td>...</td>\n",
              "      <td>...</td>\n",
              "      <td>...</td>\n",
              "      <td>...</td>\n",
              "      <td>...</td>\n",
              "    </tr>\n",
              "    <tr>\n",
              "      <th>3572</th>\n",
              "      <td>Hyundai i20 Magna 1.4 CRDi (Diesel)</td>\n",
              "      <td>409999</td>\n",
              "      <td>80000</td>\n",
              "      <td>Diesel</td>\n",
              "      <td>Individual</td>\n",
              "      <td>Manual</td>\n",
              "      <td>Second Owner</td>\n",
              "      <td>7</td>\n",
              "      <td>Hyundai</td>\n",
              "      <td>i20</td>\n",
              "      <td>4.731947e+05</td>\n",
              "    </tr>\n",
              "    <tr>\n",
              "      <th>3573</th>\n",
              "      <td>Hyundai i20 Magna 1.4 CRDi</td>\n",
              "      <td>409999</td>\n",
              "      <td>80000</td>\n",
              "      <td>Diesel</td>\n",
              "      <td>Individual</td>\n",
              "      <td>Manual</td>\n",
              "      <td>Second Owner</td>\n",
              "      <td>7</td>\n",
              "      <td>Hyundai</td>\n",
              "      <td>i20</td>\n",
              "      <td>4.731947e+05</td>\n",
              "    </tr>\n",
              "    <tr>\n",
              "      <th>3574</th>\n",
              "      <td>Maruti 800 AC BSIII</td>\n",
              "      <td>110000</td>\n",
              "      <td>83000</td>\n",
              "      <td>Petrol</td>\n",
              "      <td>Individual</td>\n",
              "      <td>Manual</td>\n",
              "      <td>Second Owner</td>\n",
              "      <td>12</td>\n",
              "      <td>Maruti</td>\n",
              "      <td>800</td>\n",
              "      <td>8.351961e+04</td>\n",
              "    </tr>\n",
              "    <tr>\n",
              "      <th>3575</th>\n",
              "      <td>Hyundai Creta 1.6 CRDi SX Option</td>\n",
              "      <td>865000</td>\n",
              "      <td>90000</td>\n",
              "      <td>Diesel</td>\n",
              "      <td>Individual</td>\n",
              "      <td>Manual</td>\n",
              "      <td>First Owner</td>\n",
              "      <td>5</td>\n",
              "      <td>Hyundai</td>\n",
              "      <td>Creta</td>\n",
              "      <td>1.013727e+06</td>\n",
              "    </tr>\n",
              "    <tr>\n",
              "      <th>3576</th>\n",
              "      <td>Renault KWID RXT</td>\n",
              "      <td>225000</td>\n",
              "      <td>40000</td>\n",
              "      <td>Petrol</td>\n",
              "      <td>Individual</td>\n",
              "      <td>Manual</td>\n",
              "      <td>First Owner</td>\n",
              "      <td>5</td>\n",
              "      <td>Renault</td>\n",
              "      <td>KWID</td>\n",
              "      <td>2.999273e+05</td>\n",
              "    </tr>\n",
              "  </tbody>\n",
              "</table>\n",
              "<p>3577 rows × 11 columns</p>\n",
              "</div>"
            ],
            "text/plain": [
              "                                     Name  Final price  ...   Model    Mean price\n",
              "0                           Maruti 800 AC        60000  ...     800  8.351961e+04\n",
              "1                Maruti Wagon R LXI Minor       135000  ...   Wagon  2.210935e+05\n",
              "2                    Hyundai Verna 1.6 SX       600000  ...   Verna  5.254465e+05\n",
              "3                  Datsun RediGO T Option       250000  ...  RediGO  2.604545e+05\n",
              "4                   Honda Amaze VX i-DTEC       450000  ...   Amaze  4.970434e+05\n",
              "...                                   ...          ...  ...     ...           ...\n",
              "3572  Hyundai i20 Magna 1.4 CRDi (Diesel)       409999  ...     i20  4.731947e+05\n",
              "3573           Hyundai i20 Magna 1.4 CRDi       409999  ...     i20  4.731947e+05\n",
              "3574                  Maruti 800 AC BSIII       110000  ...     800  8.351961e+04\n",
              "3575     Hyundai Creta 1.6 CRDi SX Option       865000  ...   Creta  1.013727e+06\n",
              "3576                     Renault KWID RXT       225000  ...    KWID  2.999273e+05\n",
              "\n",
              "[3577 rows x 11 columns]"
            ]
          },
          "metadata": {},
          "execution_count": 125
        }
      ]
    },
    {
      "cell_type": "code",
      "metadata": {
        "id": "p6iLnvcXFYiZ"
      },
      "source": [
        "num_feature = ['Age','Mean price','Kms driven']"
      ],
      "execution_count": null,
      "outputs": []
    },
    {
      "cell_type": "code",
      "metadata": {
        "colab": {
          "base_uri": "https://localhost:8080/"
        },
        "id": "LQ3UOpsKDAFI",
        "cellView": "form",
        "outputId": "d183115d-594d-4ba4-ca64-89c802241d3e"
      },
      "source": [
        "#@title VIF for numerical features\n",
        "for i in range(len(num_feature)):\n",
        "  data = tmp_df[num_feature]\n",
        "  y = data.loc[:, data.columns == num_feature[i]]\n",
        "  x = data.loc[:, data.columns != num_feature[i]]\n",
        "  model = sm.OLS(y, x)\n",
        "  results = model.fit()\n",
        "  rsq = results.rsquared\n",
        "  vif = round(1 / (1 - rsq), 2)\n",
        "  print(f\"VIF for the feature {num_feature[i]} is {vif}\")"
      ],
      "execution_count": null,
      "outputs": [
        {
          "output_type": "stream",
          "name": "stdout",
          "text": [
            "VIF for the feature Age is 3.47\n",
            "VIF for the feature Mean price is 1.57\n",
            "VIF for the feature Kms driven is 3.62\n"
          ]
        }
      ]
    },
    {
      "cell_type": "markdown",
      "metadata": {
        "id": "b-SgduzbFr7D"
      },
      "source": [
        "## The VIF for numerical features is under the acceptable range so no such multicollinearity is present"
      ]
    },
    {
      "cell_type": "code",
      "metadata": {
        "colab": {
          "base_uri": "https://localhost:8080/",
          "height": 417
        },
        "id": "fS3qynizGcf8",
        "outputId": "8f44118c-9ee0-4a6d-fce4-dd00ffffc42b"
      },
      "source": [
        "tmp_df"
      ],
      "execution_count": null,
      "outputs": [
        {
          "output_type": "execute_result",
          "data": {
            "text/html": [
              "<div>\n",
              "<style scoped>\n",
              "    .dataframe tbody tr th:only-of-type {\n",
              "        vertical-align: middle;\n",
              "    }\n",
              "\n",
              "    .dataframe tbody tr th {\n",
              "        vertical-align: top;\n",
              "    }\n",
              "\n",
              "    .dataframe thead th {\n",
              "        text-align: right;\n",
              "    }\n",
              "</style>\n",
              "<table border=\"1\" class=\"dataframe\">\n",
              "  <thead>\n",
              "    <tr style=\"text-align: right;\">\n",
              "      <th></th>\n",
              "      <th>Name</th>\n",
              "      <th>Final price</th>\n",
              "      <th>Kms driven</th>\n",
              "      <th>Fuel type</th>\n",
              "      <th>Seller type</th>\n",
              "      <th>Transmission</th>\n",
              "      <th>Ownership type</th>\n",
              "      <th>Age</th>\n",
              "      <th>Manufacturer</th>\n",
              "      <th>Model</th>\n",
              "      <th>Mean price</th>\n",
              "    </tr>\n",
              "  </thead>\n",
              "  <tbody>\n",
              "    <tr>\n",
              "      <th>0</th>\n",
              "      <td>Maruti 800 AC</td>\n",
              "      <td>60000</td>\n",
              "      <td>70000</td>\n",
              "      <td>Petrol</td>\n",
              "      <td>Individual</td>\n",
              "      <td>Manual</td>\n",
              "      <td>First Owner</td>\n",
              "      <td>14</td>\n",
              "      <td>Maruti</td>\n",
              "      <td>800</td>\n",
              "      <td>8.351961e+04</td>\n",
              "    </tr>\n",
              "    <tr>\n",
              "      <th>1</th>\n",
              "      <td>Maruti Wagon R LXI Minor</td>\n",
              "      <td>135000</td>\n",
              "      <td>50000</td>\n",
              "      <td>Petrol</td>\n",
              "      <td>Individual</td>\n",
              "      <td>Manual</td>\n",
              "      <td>First Owner</td>\n",
              "      <td>14</td>\n",
              "      <td>Maruti</td>\n",
              "      <td>Wagon</td>\n",
              "      <td>2.210935e+05</td>\n",
              "    </tr>\n",
              "    <tr>\n",
              "      <th>2</th>\n",
              "      <td>Hyundai Verna 1.6 SX</td>\n",
              "      <td>600000</td>\n",
              "      <td>100000</td>\n",
              "      <td>Diesel</td>\n",
              "      <td>Individual</td>\n",
              "      <td>Manual</td>\n",
              "      <td>First Owner</td>\n",
              "      <td>9</td>\n",
              "      <td>Hyundai</td>\n",
              "      <td>Verna</td>\n",
              "      <td>5.254465e+05</td>\n",
              "    </tr>\n",
              "    <tr>\n",
              "      <th>3</th>\n",
              "      <td>Datsun RediGO T Option</td>\n",
              "      <td>250000</td>\n",
              "      <td>46000</td>\n",
              "      <td>Petrol</td>\n",
              "      <td>Individual</td>\n",
              "      <td>Manual</td>\n",
              "      <td>First Owner</td>\n",
              "      <td>4</td>\n",
              "      <td>Datsun</td>\n",
              "      <td>RediGO</td>\n",
              "      <td>2.604545e+05</td>\n",
              "    </tr>\n",
              "    <tr>\n",
              "      <th>4</th>\n",
              "      <td>Honda Amaze VX i-DTEC</td>\n",
              "      <td>450000</td>\n",
              "      <td>141000</td>\n",
              "      <td>Diesel</td>\n",
              "      <td>Individual</td>\n",
              "      <td>Manual</td>\n",
              "      <td>Second Owner</td>\n",
              "      <td>7</td>\n",
              "      <td>Honda</td>\n",
              "      <td>Amaze</td>\n",
              "      <td>4.970434e+05</td>\n",
              "    </tr>\n",
              "    <tr>\n",
              "      <th>...</th>\n",
              "      <td>...</td>\n",
              "      <td>...</td>\n",
              "      <td>...</td>\n",
              "      <td>...</td>\n",
              "      <td>...</td>\n",
              "      <td>...</td>\n",
              "      <td>...</td>\n",
              "      <td>...</td>\n",
              "      <td>...</td>\n",
              "      <td>...</td>\n",
              "      <td>...</td>\n",
              "    </tr>\n",
              "    <tr>\n",
              "      <th>3572</th>\n",
              "      <td>Hyundai i20 Magna 1.4 CRDi (Diesel)</td>\n",
              "      <td>409999</td>\n",
              "      <td>80000</td>\n",
              "      <td>Diesel</td>\n",
              "      <td>Individual</td>\n",
              "      <td>Manual</td>\n",
              "      <td>Second Owner</td>\n",
              "      <td>7</td>\n",
              "      <td>Hyundai</td>\n",
              "      <td>i20</td>\n",
              "      <td>4.731947e+05</td>\n",
              "    </tr>\n",
              "    <tr>\n",
              "      <th>3573</th>\n",
              "      <td>Hyundai i20 Magna 1.4 CRDi</td>\n",
              "      <td>409999</td>\n",
              "      <td>80000</td>\n",
              "      <td>Diesel</td>\n",
              "      <td>Individual</td>\n",
              "      <td>Manual</td>\n",
              "      <td>Second Owner</td>\n",
              "      <td>7</td>\n",
              "      <td>Hyundai</td>\n",
              "      <td>i20</td>\n",
              "      <td>4.731947e+05</td>\n",
              "    </tr>\n",
              "    <tr>\n",
              "      <th>3574</th>\n",
              "      <td>Maruti 800 AC BSIII</td>\n",
              "      <td>110000</td>\n",
              "      <td>83000</td>\n",
              "      <td>Petrol</td>\n",
              "      <td>Individual</td>\n",
              "      <td>Manual</td>\n",
              "      <td>Second Owner</td>\n",
              "      <td>12</td>\n",
              "      <td>Maruti</td>\n",
              "      <td>800</td>\n",
              "      <td>8.351961e+04</td>\n",
              "    </tr>\n",
              "    <tr>\n",
              "      <th>3575</th>\n",
              "      <td>Hyundai Creta 1.6 CRDi SX Option</td>\n",
              "      <td>865000</td>\n",
              "      <td>90000</td>\n",
              "      <td>Diesel</td>\n",
              "      <td>Individual</td>\n",
              "      <td>Manual</td>\n",
              "      <td>First Owner</td>\n",
              "      <td>5</td>\n",
              "      <td>Hyundai</td>\n",
              "      <td>Creta</td>\n",
              "      <td>1.013727e+06</td>\n",
              "    </tr>\n",
              "    <tr>\n",
              "      <th>3576</th>\n",
              "      <td>Renault KWID RXT</td>\n",
              "      <td>225000</td>\n",
              "      <td>40000</td>\n",
              "      <td>Petrol</td>\n",
              "      <td>Individual</td>\n",
              "      <td>Manual</td>\n",
              "      <td>First Owner</td>\n",
              "      <td>5</td>\n",
              "      <td>Renault</td>\n",
              "      <td>KWID</td>\n",
              "      <td>2.999273e+05</td>\n",
              "    </tr>\n",
              "  </tbody>\n",
              "</table>\n",
              "<p>3577 rows × 11 columns</p>\n",
              "</div>"
            ],
            "text/plain": [
              "                                     Name  Final price  ...   Model    Mean price\n",
              "0                           Maruti 800 AC        60000  ...     800  8.351961e+04\n",
              "1                Maruti Wagon R LXI Minor       135000  ...   Wagon  2.210935e+05\n",
              "2                    Hyundai Verna 1.6 SX       600000  ...   Verna  5.254465e+05\n",
              "3                  Datsun RediGO T Option       250000  ...  RediGO  2.604545e+05\n",
              "4                   Honda Amaze VX i-DTEC       450000  ...   Amaze  4.970434e+05\n",
              "...                                   ...          ...  ...     ...           ...\n",
              "3572  Hyundai i20 Magna 1.4 CRDi (Diesel)       409999  ...     i20  4.731947e+05\n",
              "3573           Hyundai i20 Magna 1.4 CRDi       409999  ...     i20  4.731947e+05\n",
              "3574                  Maruti 800 AC BSIII       110000  ...     800  8.351961e+04\n",
              "3575     Hyundai Creta 1.6 CRDi SX Option       865000  ...   Creta  1.013727e+06\n",
              "3576                     Renault KWID RXT       225000  ...    KWID  2.999273e+05\n",
              "\n",
              "[3577 rows x 11 columns]"
            ]
          },
          "metadata": {},
          "execution_count": 128
        }
      ]
    },
    {
      "cell_type": "markdown",
      "metadata": {
        "id": "o1m9ylp2Gs_V"
      },
      "source": [
        "## Now we can start the modelling"
      ]
    },
    {
      "cell_type": "code",
      "metadata": {
        "id": "KNGC2TidGsUL"
      },
      "source": [
        "car_features = set(tmp_df.columns.to_list())-{'Final price','Name'}"
      ],
      "execution_count": null,
      "outputs": []
    },
    {
      "cell_type": "code",
      "metadata": {
        "id": "0ye3A7DOG6mC"
      },
      "source": [
        "# Features dataframe\n",
        "X = tmp_df[car_features]"
      ],
      "execution_count": null,
      "outputs": []
    },
    {
      "cell_type": "code",
      "metadata": {
        "colab": {
          "base_uri": "https://localhost:8080/",
          "height": 369
        },
        "id": "wN7J9XSMma9g",
        "outputId": "c7980b6d-6134-480d-a466-6d7270c210fa"
      },
      "source": [
        "sns.displot((tmp_df['Final price']));"
      ],
      "execution_count": null,
      "outputs": [
        {
          "output_type": "display_data",
          "data": {
            "image/png": "[encoded data removed]",
            "text/plain": [
              "<Figure size 360x360 with 1 Axes>"
            ]
          },
          "metadata": {
            "needs_background": "light"
          }
        }
      ]
    },
    {
      "cell_type": "markdown",
      "metadata": {
        "id": "6vRaoCqsnNzE"
      },
      "source": [
        "### **Final price is rightly skewed so we will apply log transformation on it**"
      ]
    },
    {
      "cell_type": "code",
      "metadata": {
        "id": "yEuVmuABHEhm"
      },
      "source": [
        "#Target dataframe\n",
        "y = np.log10(tmp_df['Final price'])"
      ],
      "execution_count": null,
      "outputs": []
    },
    {
      "cell_type": "code",
      "metadata": {
        "id": "iBTnnrQr9F8A"
      },
      "source": [
        "y = tmp_df['Final price']"
      ],
      "execution_count": null,
      "outputs": []
    },
    {
      "cell_type": "code",
      "metadata": {
        "colab": {
          "base_uri": "https://localhost:8080/",
          "height": 369
        },
        "id": "WU8KV0q7nTcq",
        "outputId": "efd6bb3e-e57e-45e4-9b12-8bf9e197ff82"
      },
      "source": [
        "sns.displot(y);"
      ],
      "execution_count": null,
      "outputs": [
        {
          "output_type": "display_data",
          "data": {
            "image/png": "[encoded data removed]",
            "text/plain": [
              "<Figure size 360x360 with 1 Axes>"
            ]
          },
          "metadata": {
            "needs_background": "light"
          }
        }
      ]
    },
    {
      "cell_type": "code",
      "metadata": {
        "id": "kDNRUpnBGb4Z"
      },
      "source": [
        "X_train, X_test, y_train, y_test = train_test_split(X, y, test_size = 0.2, random_state = 0)"
      ],
      "execution_count": null,
      "outputs": []
    },
    {
      "cell_type": "code",
      "metadata": {
        "id": "iBTNWtIXDRTC"
      },
      "source": [
        "#Transforming Data\n",
        "scaler = StandardScaler()\n",
        "X_train[['Age','Mean price','Kms driven']] = scaler.fit_transform(X_train[['Age','Mean price','Kms driven']])\n",
        "X_test[['Age','Mean price','Kms driven']]  = scaler.transform(X_test[['Age','Mean price','Kms driven']])"
      ],
      "execution_count": null,
      "outputs": []
    },
    {
      "cell_type": "code",
      "metadata": {
        "colab": {
          "base_uri": "https://localhost:8080/"
        },
        "id": "D1AtuMSQIKJ-",
        "outputId": "f907b76c-cde7-42ab-da08-30f9783edef1"
      },
      "source": [
        "X_train.columns"
      ],
      "execution_count": null,
      "outputs": [
        {
          "output_type": "execute_result",
          "data": {
            "text/plain": [
              "Index(['Model', 'Age', 'Fuel type', 'Transmission', 'Mean price',\n",
              "       'Manufacturer', 'Seller type', 'Ownership type', 'Kms driven'],\n",
              "      dtype='object')"
            ]
          },
          "metadata": {},
          "execution_count": 137
        }
      ]
    },
    {
      "cell_type": "code",
      "metadata": {
        "id": "o6Szn3M0IQBo"
      },
      "source": [
        "categorical_fea = ['Fuel type','Transmission','Model','Manufacturer','Seller type','Ownership type']"
      ],
      "execution_count": null,
      "outputs": []
    },
    {
      "cell_type": "code",
      "metadata": {
        "id": "07VSV4BGH_db",
        "colab": {
          "base_uri": "https://localhost:8080/"
        },
        "cellView": "form",
        "outputId": "e61c3cee-143d-4943-b4c8-4a8530f0b340"
      },
      "source": [
        "#@title One hot encoding all categorical features, it will increase the size of our features massively but give more precise answers\n",
        "ohe = OneHotEncoder()\n",
        "ohe.fit(X[categorical_fea])"
      ],
      "execution_count": null,
      "outputs": [
        {
          "output_type": "execute_result",
          "data": {
            "text/plain": [
              "OneHotEncoder(categories='auto', drop=None, dtype=<class 'numpy.float64'>,\n",
              "              handle_unknown='error', sparse=True)"
            ]
          },
          "metadata": {},
          "execution_count": 139
        }
      ]
    },
    {
      "cell_type": "code",
      "metadata": {
        "cellView": "form",
        "id": "BrmLK21YKDaC"
      },
      "source": [
        "#@title Creating a column transformer which will incorporate numerical features as it is and categorical features will be one hot encoded\n",
        "column_trans=make_column_transformer((OneHotEncoder(categories=ohe.categories_),categorical_fea),remainder='passthrough')"
      ],
      "execution_count": null,
      "outputs": []
    },
    {
      "cell_type": "code",
      "metadata": {
        "id": "jjOwU8s9KLpB"
      },
      "source": [
        "lr=LinearRegression()"
      ],
      "execution_count": null,
      "outputs": []
    },
    {
      "cell_type": "code",
      "metadata": {
        "cellView": "form",
        "id": "e_k1TnBDKNVg"
      },
      "source": [
        "#@title Creating a pipeline for linear regerssion model and column transformer\n",
        "pipe=make_pipeline(column_trans,lr)"
      ],
      "execution_count": null,
      "outputs": []
    },
    {
      "cell_type": "code",
      "metadata": {
        "id": "STIdlNuLKQ5Z",
        "colab": {
          "base_uri": "https://localhost:8080/"
        },
        "outputId": "169a0a4a-a544-46e8-9595-3442ba15220e"
      },
      "source": [
        "#fitting the linear model via the pipeline\n",
        "pipe.fit(X_train,y_train)"
      ],
      "execution_count": null,
      "outputs": [
        {
          "output_type": "execute_result",
          "data": {
            "text/plain": [
              "Pipeline(memory=None,\n",
              "         steps=[('columntransformer',\n",
              "                 ColumnTransformer(n_jobs=None, remainder='passthrough',\n",
              "                                   sparse_threshold=0.3,\n",
              "                                   transformer_weights=None,\n",
              "                                   transformers=[('onehotencoder',\n",
              "                                                  OneHotEncoder(categories=[array(['CNG', 'Diesel', 'Electric', 'LPG', 'Petrol'], dtype=object),\n",
              "                                                                            array(['Automatic', 'Manual'], dtype=object),\n",
              "                                                                            array(['1.4', '1.6Gls', '3', '5', '500', '7...\n",
              "                                                                            array(['First Owner', 'Fourth & Above Owner', 'Second Owner',\n",
              "       'Test Drive Car', 'Third Owner'], dtype=object)],\n",
              "                                                                drop=None,\n",
              "                                                                dtype=<class 'numpy.float64'>,\n",
              "                                                                handle_unknown='error',\n",
              "                                                                sparse=True),\n",
              "                                                  ['Fuel type', 'Transmission',\n",
              "                                                   'Model', 'Manufacturer',\n",
              "                                                   'Seller type',\n",
              "                                                   'Ownership type'])],\n",
              "                                   verbose=False)),\n",
              "                ('linearregression',\n",
              "                 LinearRegression(copy_X=True, fit_intercept=True, n_jobs=None,\n",
              "                                  normalize=False))],\n",
              "         verbose=False)"
            ]
          },
          "metadata": {},
          "execution_count": 143
        }
      ]
    },
    {
      "cell_type": "code",
      "metadata": {
        "id": "1KG8s189KUjG"
      },
      "source": [
        "#Predicting train values\n",
        "y_pred_train = pipe.predict(X_train)"
      ],
      "execution_count": null,
      "outputs": []
    },
    {
      "cell_type": "code",
      "metadata": {
        "colab": {
          "base_uri": "https://localhost:8080/"
        },
        "cellView": "form",
        "id": "kPgFXZcUT09Z",
        "outputId": "aef531c3-a5f6-460b-89ad-8aef777e4562"
      },
      "source": [
        "#@title The sum of residuals is approximately zero\n",
        "round(np.mean(y_train - y_pred_train))"
      ],
      "execution_count": null,
      "outputs": [
        {
          "output_type": "execute_result",
          "data": {
            "text/plain": [
              "0"
            ]
          },
          "metadata": {},
          "execution_count": 145
        }
      ]
    },
    {
      "cell_type": "code",
      "metadata": {
        "colab": {
          "base_uri": "https://localhost:8080/"
        },
        "cellView": "form",
        "id": "xdjSTKzeKYPV",
        "outputId": "aab8ac41-2e7b-4517-de71-048ef935ee04"
      },
      "source": [
        "#@title R2 score for training\n",
        "r2_score(y_train,y_pred_train)"
      ],
      "execution_count": null,
      "outputs": [
        {
          "output_type": "execute_result",
          "data": {
            "text/plain": [
              "0.8828923886251758"
            ]
          },
          "metadata": {},
          "execution_count": 146
        }
      ]
    },
    {
      "cell_type": "code",
      "metadata": {
        "id": "9-gU8GQVKdbh"
      },
      "source": [
        "y_pred_test =pipe.predict(X_test)"
      ],
      "execution_count": null,
      "outputs": []
    },
    {
      "cell_type": "code",
      "metadata": {
        "colab": {
          "base_uri": "https://localhost:8080/"
        },
        "cellView": "form",
        "id": "UWMab4UjKhNr",
        "outputId": "aea161c5-5713-41be-b333-99966d2e8d77"
      },
      "source": [
        "#@title R2 score for testing\n",
        "r2_score(y_test,y_pred_test)"
      ],
      "execution_count": null,
      "outputs": [
        {
          "output_type": "execute_result",
          "data": {
            "text/plain": [
              "0.7681733333400338"
            ]
          },
          "metadata": {},
          "execution_count": 148
        }
      ]
    },
    {
      "cell_type": "code",
      "metadata": {
        "colab": {
          "base_uri": "https://localhost:8080/"
        },
        "id": "1VMnFHjYQIwX",
        "outputId": "87c30a91-5cd7-4414-d64f-30d294f9af8d"
      },
      "source": [
        "print(f\"The rms error for the training set is {mean_squared_error(y_train,y_pred_train,squared=False)}\")"
      ],
      "execution_count": null,
      "outputs": [
        {
          "output_type": "stream",
          "name": "stdout",
          "text": [
            "The rms error for the training set is 178779.67378627585\n"
          ]
        }
      ]
    },
    {
      "cell_type": "code",
      "metadata": {
        "colab": {
          "base_uri": "https://localhost:8080/"
        },
        "id": "t5kmhS6MQTel",
        "outputId": "afa77047-baf5-4d5d-a79d-d404a7440cb4"
      },
      "source": [
        "print(f\"The rms error for the training set is {mean_squared_error(y_test,y_pred_test,squared=False)}\")"
      ],
      "execution_count": null,
      "outputs": [
        {
          "output_type": "stream",
          "name": "stdout",
          "text": [
            "The rms error for the training set is 217942.557574573\n"
          ]
        }
      ]
    },
    {
      "cell_type": "code",
      "metadata": {
        "id": "RrCwmlRjLfdz"
      },
      "source": [
        "predicted_price_in_units = np.around(10 ** y_pred_test,2)"
      ],
      "execution_count": null,
      "outputs": []
    },
    {
      "cell_type": "code",
      "metadata": {
        "colab": {
          "base_uri": "https://localhost:8080/",
          "height": 607
        },
        "cellView": "form",
        "id": "bnzGU2I2Sdbf",
        "outputId": "b6aa647e-5dd7-4e9f-beba-6b20aa5adbb7"
      },
      "source": [
        "# @title Predicted vs actual comparison\n",
        "plt.figure(figsize=(18,10))\n",
        "plt.plot((y_pred_test))\n",
        "plt.plot(np.array((y_test)))\n",
        "plt.legend([\"Predicted\",\"Actual\"])\n",
        "plt.title(\"Comparison of predicted vs actual y values\")\n",
        "plt.show()"
      ],
      "execution_count": null,
      "outputs": [
        {
          "output_type": "display_data",
          "data": {
            "image/png": "[encoded data removed]",
            "text/plain": [
              "<Figure size 1296x720 with 1 Axes>"
            ]
          },
          "metadata": {
            "needs_background": "light"
          }
        }
      ]
    },
    {
      "cell_type": "code",
      "metadata": {
        "cellView": "form",
        "id": "CF-VdkkjNOiX"
      },
      "source": [
        "#@title Getting all features name, one hot encoded included\n",
        "feature_names = (pipe.named_steps['columntransformer']\n",
        "                      .named_transformers_['onehotencoder']\n",
        "                      .get_feature_names(input_features=categorical_fea))\n",
        "feature_names = np.concatenate(\n",
        "    [feature_names, num_feature])"
      ],
      "execution_count": null,
      "outputs": []
    },
    {
      "cell_type": "code",
      "metadata": {
        "colab": {
          "base_uri": "https://localhost:8080/"
        },
        "id": "IcPNJQQ4O8C1",
        "outputId": "666e0265-e073-44fc-f597-6f0e45c3744d"
      },
      "source": [
        "feature_names"
      ],
      "execution_count": null,
      "outputs": [
        {
          "output_type": "execute_result",
          "data": {
            "text/plain": [
              "array(['Fuel type_CNG', 'Fuel type_Diesel', 'Fuel type_Electric',\n",
              "       'Fuel type_LPG', 'Fuel type_Petrol', 'Transmission_Automatic',\n",
              "       'Transmission_Manual', 'Model_1.4', 'Model_1.6Gls', 'Model_3',\n",
              "       'Model_5', 'Model_500', 'Model_7', 'Model_800', 'Model_A-Star',\n",
              "       'Model_A4', 'Model_A5', 'Model_A6', 'Model_A8', 'Model_Accent',\n",
              "       'Model_Accord', 'Model_Alto', 'Model_Altroz', 'Model_Alturas',\n",
              "       'Model_Amaze', 'Model_Ameo', 'Model_Aria', 'Model_Aspire',\n",
              "       'Model_Aveo', 'Model_Avventura', 'Model_B', 'Model_BR-V',\n",
              "       'Model_BRV', 'Model_Baleno', 'Model_Beat', 'Model_Bolero',\n",
              "       'Model_Bolt', 'Model_Brio', 'Model_C-Class', 'Model_CLASSIC',\n",
              "       'Model_CR-V', 'Model_Camry', 'Model_Captiva', 'Model_Captur',\n",
              "       'Model_Celerio', 'Model_Ciaz', 'Model_City', 'Model_Civic',\n",
              "       'Model_Classic', 'Model_Compass', 'Model_Corolla', 'Model_Creta',\n",
              "       'Model_CrossPolo', 'Model_Cruze', 'Model_D-Max', 'Model_Duster',\n",
              "       'Model_E-Class', 'Model_EON', 'Model_EcoSport', 'Model_Ecosport',\n",
              "       'Model_Eeco', 'Model_Elantra', 'Model_Elite', 'Model_Endeavour',\n",
              "       'Model_Enjoy', 'Model_Ertiga', 'Model_Esteem', 'Model_Estilo',\n",
              "       'Model_Etios', 'Model_Evalia', 'Model_Fabia', 'Model_Fiesta',\n",
              "       'Model_Figo', 'Model_Fluence', 'Model_Fortuner', 'Model_Freestyle',\n",
              "       'Model_Fusion', 'Model_GL-Class', 'Model_GLS', 'Model_GO',\n",
              "       'Model_Getz', 'Model_Grand', 'Model_Grande', 'Model_Gypsy',\n",
              "       'Model_Harrier', 'Model_Hector', 'Model_Hexa', 'Model_Ignis',\n",
              "       'Model_Ikon', 'Model_Indica', 'Model_Indigo', 'Model_Ingenio',\n",
              "       'Model_Innova', 'Model_Jazz', 'Model_Jeep', 'Model_Jetta',\n",
              "       'Model_KUV', 'Model_KWID', 'Model_Kicks', 'Model_Koleos',\n",
              "       'Model_Laura', 'Model_Linea', 'Model_Lodgy', 'Model_M-Class',\n",
              "       'Model_Manza', 'Model_Marazzo', 'Model_Matiz', 'Model_Micra',\n",
              "       'Model_Mobilio', 'Model_Montero', 'Model_Nano', 'Model_New',\n",
              "       'Model_Nexon', 'Model_NuvoSport', 'Model_Octavia', 'Model_Omni',\n",
              "       'Model_One', 'Model_Optra', 'Model_Outlander', 'Model_Pajero',\n",
              "       'Model_Palio', 'Model_Passat', 'Model_Polo', 'Model_Pulse',\n",
              "       'Model_Punto', 'Model_Q3', 'Model_Q5', 'Model_Q7', 'Model_Qualis',\n",
              "       'Model_Quanto', 'Model_RS7', 'Model_Rapid', 'Model_RediGO',\n",
              "       'Model_Renault', 'Model_Ritz', 'Model_Rover', 'Model_S-Class',\n",
              "       'Model_S-Cross', 'Model_S-Presso', 'Model_SX4', 'Model_Safari',\n",
              "       'Model_Sail', 'Model_Santa', 'Model_Santro', 'Model_Scala',\n",
              "       'Model_Scorpio', 'Model_Seltos', 'Model_Sonata', 'Model_Spacio',\n",
              "       'Model_Spark', 'Model_Sumo', 'Model_Sunny', 'Model_Superb',\n",
              "       'Model_Supro', 'Model_Swift', 'Model_TUV', 'Model_Tavera',\n",
              "       'Model_Terrano', 'Model_Thar', 'Model_Tiago', 'Model_Tigor',\n",
              "       'Model_Triber', 'Model_Tucson', 'Model_V40', 'Model_Vento',\n",
              "       'Model_Venture', 'Model_Venue', 'Model_Verito', 'Model_Verna',\n",
              "       'Model_Vitara', 'Model_WR-V', 'Model_Wagon', 'Model_Winger',\n",
              "       'Model_X-Trail', 'Model_X1', 'Model_X5', 'Model_XC', 'Model_XC60',\n",
              "       'Model_XF', 'Model_XJ', 'Model_XUV300', 'Model_XUV500',\n",
              "       'Model_Xcent', 'Model_Xenon', 'Model_Xylo', 'Model_Yaris',\n",
              "       'Model_Yeti', 'Model_Zen', 'Model_Zest', 'Model_i10', 'Model_i20',\n",
              "       'Model_redi-GO', 'Manufacturer_Ambassador', 'Manufacturer_Audi',\n",
              "       'Manufacturer_BMW', 'Manufacturer_Chevrolet',\n",
              "       'Manufacturer_Daewoo', 'Manufacturer_Datsun', 'Manufacturer_Fiat',\n",
              "       'Manufacturer_Force', 'Manufacturer_Ford', 'Manufacturer_Honda',\n",
              "       'Manufacturer_Hyundai', 'Manufacturer_Isuzu',\n",
              "       'Manufacturer_Jaguar', 'Manufacturer_Jeep', 'Manufacturer_Kia',\n",
              "       'Manufacturer_Land', 'Manufacturer_MG', 'Manufacturer_Mahindra',\n",
              "       'Manufacturer_Maruti', 'Manufacturer_Mercedes-Benz',\n",
              "       'Manufacturer_Mitsubishi', 'Manufacturer_Nissan',\n",
              "       'Manufacturer_OpelCorsa', 'Manufacturer_Renault',\n",
              "       'Manufacturer_Skoda', 'Manufacturer_Tata', 'Manufacturer_Toyota',\n",
              "       'Manufacturer_Volkswagen', 'Manufacturer_Volvo',\n",
              "       'Seller type_Dealer', 'Seller type_Individual',\n",
              "       'Seller type_Trustmark Dealer', 'Ownership type_First Owner',\n",
              "       'Ownership type_Fourth & Above Owner',\n",
              "       'Ownership type_Second Owner', 'Ownership type_Test Drive Car',\n",
              "       'Ownership type_Third Owner', 'Age', 'Mean price', 'Kms driven'],\n",
              "      dtype=object)"
            ]
          },
          "metadata": {},
          "execution_count": 154
        }
      ]
    },
    {
      "cell_type": "code",
      "metadata": {
        "cellView": "form",
        "id": "CTN4FLskO_vT"
      },
      "source": [
        "#@title Creating a dataframe for all coefficients\n",
        "coefs = pd.DataFrame(\n",
        "    pipe.named_steps['linearregression'].coef_,\n",
        "    columns=['Coefficients'], index=feature_names\n",
        ")"
      ],
      "execution_count": null,
      "outputs": []
    },
    {
      "cell_type": "code",
      "metadata": {
        "colab": {
          "base_uri": "https://localhost:8080/",
          "height": 434
        },
        "id": "RfNWh7jeQdmt",
        "outputId": "af13563c-e4d5-4221-901f-e6a9e10f0b01"
      },
      "source": [
        "print(\"The coefficients for the fitted model are \")\n",
        "coefs"
      ],
      "execution_count": null,
      "outputs": [
        {
          "output_type": "stream",
          "name": "stdout",
          "text": [
            "The coefficients for the fitted model are \n"
          ]
        },
        {
          "output_type": "execute_result",
          "data": {
            "text/html": [
              "<div>\n",
              "<style scoped>\n",
              "    .dataframe tbody tr th:only-of-type {\n",
              "        vertical-align: middle;\n",
              "    }\n",
              "\n",
              "    .dataframe tbody tr th {\n",
              "        vertical-align: top;\n",
              "    }\n",
              "\n",
              "    .dataframe thead th {\n",
              "        text-align: right;\n",
              "    }\n",
              "</style>\n",
              "<table border=\"1\" class=\"dataframe\">\n",
              "  <thead>\n",
              "    <tr style=\"text-align: right;\">\n",
              "      <th></th>\n",
              "      <th>Coefficients</th>\n",
              "    </tr>\n",
              "  </thead>\n",
              "  <tbody>\n",
              "    <tr>\n",
              "      <th>Fuel type_CNG</th>\n",
              "      <td>134109.775635</td>\n",
              "    </tr>\n",
              "    <tr>\n",
              "      <th>Fuel type_Diesel</th>\n",
              "      <td>217923.926474</td>\n",
              "    </tr>\n",
              "    <tr>\n",
              "      <th>Fuel type_Electric</th>\n",
              "      <td>-731114.246617</td>\n",
              "    </tr>\n",
              "    <tr>\n",
              "      <th>Fuel type_LPG</th>\n",
              "      <td>214505.412012</td>\n",
              "    </tr>\n",
              "    <tr>\n",
              "      <th>Fuel type_Petrol</th>\n",
              "      <td>164575.132490</td>\n",
              "    </tr>\n",
              "    <tr>\n",
              "      <th>...</th>\n",
              "      <td>...</td>\n",
              "    </tr>\n",
              "    <tr>\n",
              "      <th>Ownership type_Test Drive Car</th>\n",
              "      <td>168029.954580</td>\n",
              "    </tr>\n",
              "    <tr>\n",
              "      <th>Ownership type_Third Owner</th>\n",
              "      <td>-61818.147871</td>\n",
              "    </tr>\n",
              "    <tr>\n",
              "      <th>Age</th>\n",
              "      <td>-160258.302368</td>\n",
              "    </tr>\n",
              "    <tr>\n",
              "      <th>Mean price</th>\n",
              "      <td>376692.577174</td>\n",
              "    </tr>\n",
              "    <tr>\n",
              "      <th>Kms driven</th>\n",
              "      <td>-50738.351812</td>\n",
              "    </tr>\n",
              "  </tbody>\n",
              "</table>\n",
              "<p>232 rows × 1 columns</p>\n",
              "</div>"
            ],
            "text/plain": [
              "                                Coefficients\n",
              "Fuel type_CNG                  134109.775635\n",
              "Fuel type_Diesel               217923.926474\n",
              "Fuel type_Electric            -731114.246617\n",
              "Fuel type_LPG                  214505.412012\n",
              "Fuel type_Petrol               164575.132490\n",
              "...                                      ...\n",
              "Ownership type_Test Drive Car  168029.954580\n",
              "Ownership type_Third Owner     -61818.147871\n",
              "Age                           -160258.302368\n",
              "Mean price                     376692.577174\n",
              "Kms driven                     -50738.351812\n",
              "\n",
              "[232 rows x 1 columns]"
            ]
          },
          "metadata": {},
          "execution_count": 156
        }
      ]
    },
    {
      "cell_type": "markdown",
      "metadata": {
        "id": "Hdg5F84qUdE5"
      },
      "source": [
        "### **Lasso regularization**"
      ]
    },
    {
      "cell_type": "code",
      "metadata": {
        "cellView": "form",
        "id": "JQDT3viJVPdF"
      },
      "source": [
        "#@title Implementing lasso regularization\n",
        "alphas = [0.001,0.005,0.01,0.1,0.5,1,5,8]\n",
        "weight_dict = {}\n",
        "lasso_scores = []\n",
        "for i in alphas:\n",
        "  las = Lasso(alpha = i, fit_intercept = True)\n",
        "  lasso_pipe = make_pipeline(column_trans,las)\n",
        "  lasso_pipe.fit(X_train,y_train)\n",
        "  coefs_lasso = pd.DataFrame(lasso_pipe.named_steps['lasso'].coef_,columns=['Coefficients'], index=feature_names)\n",
        "  weight_dict[i] = coefs_lasso['Coefficients'].values\n",
        "  y_lasso_train = lasso_pipe.predict(X_train)\n",
        "  y_lasso_test = lasso_pipe.predict(X_test)\n",
        "  score = r2_score(y_test,y_lasso_test)\n",
        "  lasso_scores.append(score)"
      ],
      "execution_count": null,
      "outputs": []
    },
    {
      "cell_type": "code",
      "metadata": {
        "colab": {
          "base_uri": "https://localhost:8080/"
        },
        "id": "SitgN_tnZsTG",
        "outputId": "a7743bdb-8b74-405f-cbed-fb825ba68ba1"
      },
      "source": [
        "print(f\"The r2 scores for lasso regularization are \\n{lasso_scores}\")"
      ],
      "execution_count": null,
      "outputs": [
        {
          "output_type": "stream",
          "name": "stdout",
          "text": [
            "The r2 scores for lasso regularization are \n",
            "[0.7400134431069709, 0.7400873068720601, 0.7401843685206806, 0.7429275090707015, 0.7542044830569373, 0.7646084843211237, 0.767543276800091, 0.7684701446131826]\n"
          ]
        }
      ]
    },
    {
      "cell_type": "code",
      "metadata": {
        "colab": {
          "base_uri": "https://localhost:8080/"
        },
        "id": "q3XDzxLni7jT",
        "outputId": "f59076c7-c95a-4d99-a645-feef53ae5de2"
      },
      "source": [
        "print(f\"The best alpha value is at {alphas[np.argmax(lasso_scores)]}\")"
      ],
      "execution_count": null,
      "outputs": [
        {
          "output_type": "stream",
          "name": "stdout",
          "text": [
            "The best alpha value is at 8\n"
          ]
        }
      ]
    },
    {
      "cell_type": "code",
      "metadata": {
        "colab": {
          "base_uri": "https://localhost:8080/",
          "height": 295
        },
        "id": "m8SRcszwZfdN",
        "outputId": "7a1493fd-9498-4889-bc32-85fa78d45a12"
      },
      "source": [
        "plt.plot(alphas,lasso_scores)\n",
        "plt.xlabel(\"Alphas\")\n",
        "plt.ylabel(\"R2 scores\")\n",
        "plt.title(\"Alphas vs R2 scores\");"
      ],
      "execution_count": null,
      "outputs": [
        {
          "output_type": "display_data",
          "data": {
            "image/png": "[encoded data removed]",
            "text/plain": [
              "<Figure size 432x288 with 1 Axes>"
            ]
          },
          "metadata": {
            "needs_background": "light"
          }
        }
      ]
    },
    {
      "cell_type": "code",
      "metadata": {
        "colab": {
          "base_uri": "https://localhost:8080/",
          "height": 417
        },
        "cellView": "form",
        "id": "ZX74GJ7nWNHg",
        "outputId": "b623ab1a-589b-4e27-941f-9da2321a2b75"
      },
      "source": [
        "#@title Feature importance dataframe for all values of alphas\n",
        "lasso_df = pd.DataFrame(weight_dict,columns=alphas,index=feature_names)\n",
        "lasso_df"
      ],
      "execution_count": null,
      "outputs": [
        {
          "output_type": "execute_result",
          "data": {
            "text/html": [
              "<div>\n",
              "<style scoped>\n",
              "    .dataframe tbody tr th:only-of-type {\n",
              "        vertical-align: middle;\n",
              "    }\n",
              "\n",
              "    .dataframe tbody tr th {\n",
              "        vertical-align: top;\n",
              "    }\n",
              "\n",
              "    .dataframe thead th {\n",
              "        text-align: right;\n",
              "    }\n",
              "</style>\n",
              "<table border=\"1\" class=\"dataframe\">\n",
              "  <thead>\n",
              "    <tr style=\"text-align: right;\">\n",
              "      <th></th>\n",
              "      <th>0.001</th>\n",
              "      <th>0.005</th>\n",
              "      <th>0.010</th>\n",
              "      <th>0.100</th>\n",
              "      <th>0.500</th>\n",
              "      <th>1.000</th>\n",
              "      <th>5.000</th>\n",
              "      <th>8.000</th>\n",
              "    </tr>\n",
              "  </thead>\n",
              "  <tbody>\n",
              "    <tr>\n",
              "      <th>Fuel type_CNG</th>\n",
              "      <td>-31569.030051</td>\n",
              "      <td>-31553.117234</td>\n",
              "      <td>-31533.210940</td>\n",
              "      <td>-31175.441496</td>\n",
              "      <td>-30425.516949</td>\n",
              "      <td>-30356.510292</td>\n",
              "      <td>-29546.068237</td>\n",
              "      <td>-29017.901723</td>\n",
              "    </tr>\n",
              "    <tr>\n",
              "      <th>Fuel type_Diesel</th>\n",
              "      <td>52343.685884</td>\n",
              "      <td>52358.588775</td>\n",
              "      <td>52377.176221</td>\n",
              "      <td>52710.824956</td>\n",
              "      <td>53362.798478</td>\n",
              "      <td>53275.841967</td>\n",
              "      <td>53392.491702</td>\n",
              "      <td>53349.210982</td>\n",
              "    </tr>\n",
              "    <tr>\n",
              "      <th>Fuel type_Electric</th>\n",
              "      <td>-896829.492747</td>\n",
              "      <td>-896796.243411</td>\n",
              "      <td>-896755.169638</td>\n",
              "      <td>-896021.109711</td>\n",
              "      <td>-893568.203651</td>\n",
              "      <td>-891400.516712</td>\n",
              "      <td>-873781.828620</td>\n",
              "      <td>-860585.201389</td>\n",
              "    </tr>\n",
              "    <tr>\n",
              "      <th>Fuel type_LPG</th>\n",
              "      <td>48798.807371</td>\n",
              "      <td>48813.620431</td>\n",
              "      <td>48832.212679</td>\n",
              "      <td>49167.223049</td>\n",
              "      <td>49805.500248</td>\n",
              "      <td>49726.623228</td>\n",
              "      <td>48564.560861</td>\n",
              "      <td>47795.969510</td>\n",
              "    </tr>\n",
              "    <tr>\n",
              "      <th>Fuel type_Petrol</th>\n",
              "      <td>-1083.365722</td>\n",
              "      <td>-1067.936927</td>\n",
              "      <td>-1048.650780</td>\n",
              "      <td>-701.482300</td>\n",
              "      <td>-0.000000</td>\n",
              "      <td>0.000000</td>\n",
              "      <td>-0.000000</td>\n",
              "      <td>-0.000000</td>\n",
              "    </tr>\n",
              "    <tr>\n",
              "      <th>...</th>\n",
              "      <td>...</td>\n",
              "      <td>...</td>\n",
              "      <td>...</td>\n",
              "      <td>...</td>\n",
              "      <td>...</td>\n",
              "      <td>...</td>\n",
              "      <td>...</td>\n",
              "      <td>...</td>\n",
              "    </tr>\n",
              "    <tr>\n",
              "      <th>Ownership type_Test Drive Car</th>\n",
              "      <td>217992.721230</td>\n",
              "      <td>217976.778450</td>\n",
              "      <td>217956.740873</td>\n",
              "      <td>217594.160917</td>\n",
              "      <td>215994.510600</td>\n",
              "      <td>213866.836525</td>\n",
              "      <td>198461.748252</td>\n",
              "      <td>195233.452004</td>\n",
              "    </tr>\n",
              "    <tr>\n",
              "      <th>Ownership type_Third Owner</th>\n",
              "      <td>-11941.789103</td>\n",
              "      <td>-11956.154105</td>\n",
              "      <td>-11974.090045</td>\n",
              "      <td>-12295.667378</td>\n",
              "      <td>-13717.847191</td>\n",
              "      <td>-15501.831277</td>\n",
              "      <td>-29991.194958</td>\n",
              "      <td>-32253.001316</td>\n",
              "    </tr>\n",
              "    <tr>\n",
              "      <th>Age</th>\n",
              "      <td>-160217.048569</td>\n",
              "      <td>-160216.948053</td>\n",
              "      <td>-160216.864065</td>\n",
              "      <td>-160216.069499</td>\n",
              "      <td>-160207.518573</td>\n",
              "      <td>-160160.632617</td>\n",
              "      <td>-159174.915268</td>\n",
              "      <td>-158588.392906</td>\n",
              "    </tr>\n",
              "    <tr>\n",
              "      <th>Mean price</th>\n",
              "      <td>-50824.598057</td>\n",
              "      <td>-50500.263153</td>\n",
              "      <td>-50074.207573</td>\n",
              "      <td>-37983.437045</td>\n",
              "      <td>19032.231745</td>\n",
              "      <td>90233.730583</td>\n",
              "      <td>369825.899419</td>\n",
              "      <td>370449.069147</td>\n",
              "    </tr>\n",
              "    <tr>\n",
              "      <th>Kms driven</th>\n",
              "      <td>-50695.776863</td>\n",
              "      <td>-50695.648232</td>\n",
              "      <td>-50695.448350</td>\n",
              "      <td>-50691.167666</td>\n",
              "      <td>-50670.494206</td>\n",
              "      <td>-50648.035143</td>\n",
              "      <td>-50488.210052</td>\n",
              "      <td>-50389.164955</td>\n",
              "    </tr>\n",
              "  </tbody>\n",
              "</table>\n",
              "<p>232 rows × 8 columns</p>\n",
              "</div>"
            ],
            "text/plain": [
              "                                       0.001  ...          8.000\n",
              "Fuel type_CNG                  -31569.030051  ...  -29017.901723\n",
              "Fuel type_Diesel                52343.685884  ...   53349.210982\n",
              "Fuel type_Electric            -896829.492747  ... -860585.201389\n",
              "Fuel type_LPG                   48798.807371  ...   47795.969510\n",
              "Fuel type_Petrol                -1083.365722  ...      -0.000000\n",
              "...                                      ...  ...            ...\n",
              "Ownership type_Test Drive Car  217992.721230  ...  195233.452004\n",
              "Ownership type_Third Owner     -11941.789103  ...  -32253.001316\n",
              "Age                           -160217.048569  ... -158588.392906\n",
              "Mean price                     -50824.598057  ...  370449.069147\n",
              "Kms driven                     -50695.776863  ...  -50389.164955\n",
              "\n",
              "[232 rows x 8 columns]"
            ]
          },
          "metadata": {},
          "execution_count": 161
        }
      ]
    },
    {
      "cell_type": "markdown",
      "metadata": {
        "id": "C9e37szUrX3M"
      },
      "source": [
        "### **As alpha value increases, the coefficients become zero and only some coefficients remain**"
      ]
    },
    {
      "cell_type": "markdown",
      "metadata": {
        "id": "ly-Nhd8odADu"
      },
      "source": [
        "### **Ridge**"
      ]
    },
    {
      "cell_type": "code",
      "metadata": {
        "id": "I9KKjaQgdEiy"
      },
      "source": [
        ""
      ],
      "execution_count": null,
      "outputs": []
    },
    {
      "cell_type": "code",
      "metadata": {
        "cellView": "form",
        "id": "Rf62akmRc_Qb"
      },
      "source": [
        "#@title Implementing ridge regularization\n",
        "alphas_ridge = 10 ** np.arange(1, 5)\n",
        "weight_dict_ridge = {}\n",
        "ridge_scores = []\n",
        "for i in alphas_ridge:\n",
        "  rid = Ridge(alpha = i, fit_intercept = True)\n",
        "  ridge_pipe = make_pipeline(column_trans,rid)\n",
        "  ridge_pipe.fit(X_train,y_train)\n",
        "  coefs_ridge = pd.DataFrame(ridge_pipe.named_steps['ridge'].coef_,columns=['Coefficients'], index=feature_names)\n",
        "  weight_dict_ridge[i] = coefs_ridge['Coefficients'].values\n",
        "  y_ridge_train = ridge_pipe.predict(X_train)\n",
        "  y_ridge_test = ridge_pipe.predict(X_test)\n",
        "  rid_score = r2_score(y_test,y_ridge_test)\n",
        "  ridge_scores.append(rid_score)"
      ],
      "execution_count": null,
      "outputs": []
    },
    {
      "cell_type": "code",
      "metadata": {
        "colab": {
          "base_uri": "https://localhost:8080/"
        },
        "id": "k7h0X59np9CL",
        "outputId": "30cc8829-2fb8-44ce-c13d-429c22dd8bb7"
      },
      "source": [
        "ridge_scores\n"
      ],
      "execution_count": null,
      "outputs": [
        {
          "output_type": "execute_result",
          "data": {
            "text/plain": [
              "[0.8036565390276658, 0.7955867918867902, 0.775523934414998, 0.4032434436821215]"
            ]
          },
          "metadata": {},
          "execution_count": 163
        }
      ]
    },
    {
      "cell_type": "code",
      "metadata": {
        "id": "qUGbQq8EewjW"
      },
      "source": [
        "ridge_df = pd.DataFrame(weight_dict_ridge,columns=alphas_ridge,index=feature_names)\n",
        "#,name=\"Ridge Regularization coefficients\""
      ],
      "execution_count": null,
      "outputs": []
    },
    {
      "cell_type": "code",
      "metadata": {
        "colab": {
          "base_uri": "https://localhost:8080/",
          "height": 417
        },
        "id": "cfVGoEvhfQbw",
        "outputId": "68492bce-61e8-4ae6-b617-9f329e358d7d"
      },
      "source": [
        "ridge_df"
      ],
      "execution_count": null,
      "outputs": [
        {
          "output_type": "execute_result",
          "data": {
            "text/html": [
              "<div>\n",
              "<style scoped>\n",
              "    .dataframe tbody tr th:only-of-type {\n",
              "        vertical-align: middle;\n",
              "    }\n",
              "\n",
              "    .dataframe tbody tr th {\n",
              "        vertical-align: top;\n",
              "    }\n",
              "\n",
              "    .dataframe thead th {\n",
              "        text-align: right;\n",
              "    }\n",
              "</style>\n",
              "<table border=\"1\" class=\"dataframe\">\n",
              "  <thead>\n",
              "    <tr style=\"text-align: right;\">\n",
              "      <th></th>\n",
              "      <th>10</th>\n",
              "      <th>100</th>\n",
              "      <th>1000</th>\n",
              "      <th>10000</th>\n",
              "    </tr>\n",
              "  </thead>\n",
              "  <tbody>\n",
              "    <tr>\n",
              "      <th>Fuel type_CNG</th>\n",
              "      <td>-8428.529783</td>\n",
              "      <td>-3666.722533</td>\n",
              "      <td>-1353.226891</td>\n",
              "      <td>-435.140873</td>\n",
              "    </tr>\n",
              "    <tr>\n",
              "      <th>Fuel type_Diesel</th>\n",
              "      <td>47842.031765</td>\n",
              "      <td>30765.921738</td>\n",
              "      <td>30355.139971</td>\n",
              "      <td>13818.741054</td>\n",
              "    </tr>\n",
              "    <tr>\n",
              "      <th>Fuel type_Electric</th>\n",
              "      <td>-63392.483070</td>\n",
              "      <td>-7864.059630</td>\n",
              "      <td>-620.827624</td>\n",
              "      <td>-28.272652</td>\n",
              "    </tr>\n",
              "    <tr>\n",
              "      <th>Fuel type_LPG</th>\n",
              "      <td>26997.908781</td>\n",
              "      <td>2850.999363</td>\n",
              "      <td>-580.375139</td>\n",
              "      <td>-384.521178</td>\n",
              "    </tr>\n",
              "    <tr>\n",
              "      <th>Fuel type_Petrol</th>\n",
              "      <td>-3018.927694</td>\n",
              "      <td>-22086.138940</td>\n",
              "      <td>-27800.710318</td>\n",
              "      <td>-12970.806350</td>\n",
              "    </tr>\n",
              "    <tr>\n",
              "      <th>...</th>\n",
              "      <td>...</td>\n",
              "      <td>...</td>\n",
              "      <td>...</td>\n",
              "      <td>...</td>\n",
              "    </tr>\n",
              "    <tr>\n",
              "      <th>Ownership type_Test Drive Car</th>\n",
              "      <td>98550.839440</td>\n",
              "      <td>21101.497951</td>\n",
              "      <td>2553.462287</td>\n",
              "      <td>457.955437</td>\n",
              "    </tr>\n",
              "    <tr>\n",
              "      <th>Ownership type_Third Owner</th>\n",
              "      <td>-39416.682859</td>\n",
              "      <td>-15357.390062</td>\n",
              "      <td>-7200.171042</td>\n",
              "      <td>-3160.893952</td>\n",
              "    </tr>\n",
              "    <tr>\n",
              "      <th>Age</th>\n",
              "      <td>-120889.993964</td>\n",
              "      <td>-91473.957159</td>\n",
              "      <td>-82110.161201</td>\n",
              "      <td>-40170.058689</td>\n",
              "    </tr>\n",
              "    <tr>\n",
              "      <th>Mean price</th>\n",
              "      <td>394571.057766</td>\n",
              "      <td>386917.056927</td>\n",
              "      <td>303077.417547</td>\n",
              "      <td>97783.763717</td>\n",
              "    </tr>\n",
              "    <tr>\n",
              "      <th>Kms driven</th>\n",
              "      <td>-51548.559067</td>\n",
              "      <td>-49395.338991</td>\n",
              "      <td>-41007.316814</td>\n",
              "      <td>-17644.574658</td>\n",
              "    </tr>\n",
              "  </tbody>\n",
              "</table>\n",
              "<p>232 rows × 4 columns</p>\n",
              "</div>"
            ],
            "text/plain": [
              "                                       10     ...         10000\n",
              "Fuel type_CNG                   -8428.529783  ...   -435.140873\n",
              "Fuel type_Diesel                47842.031765  ...  13818.741054\n",
              "Fuel type_Electric             -63392.483070  ...    -28.272652\n",
              "Fuel type_LPG                   26997.908781  ...   -384.521178\n",
              "Fuel type_Petrol                -3018.927694  ... -12970.806350\n",
              "...                                      ...  ...           ...\n",
              "Ownership type_Test Drive Car   98550.839440  ...    457.955437\n",
              "Ownership type_Third Owner     -39416.682859  ...  -3160.893952\n",
              "Age                           -120889.993964  ... -40170.058689\n",
              "Mean price                     394571.057766  ...  97783.763717\n",
              "Kms driven                     -51548.559067  ... -17644.574658\n",
              "\n",
              "[232 rows x 4 columns]"
            ]
          },
          "metadata": {},
          "execution_count": 165
        }
      ]
    }
  ]
}